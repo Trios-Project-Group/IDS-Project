{
 "cells": [
  {
   "cell_type": "code",
   "execution_count": 1,
   "metadata": {},
   "outputs": [],
   "source": [
    "import pandas as pd\n",
    "import matplotlib.pyplot as plt\n",
    "import matplotlib.mlab as mlab\n",
    "import numpy as np\n",
    "import statistics as st\n",
    "import seaborn as sns\n",
    "import scipy as sc\n",
    "import math\n",
    "from scipy.stats import norm"
   ]
  },
  {
   "cell_type": "code",
   "execution_count": 2,
   "metadata": {},
   "outputs": [],
   "source": [
    "df=pd.read_csv(\"GlobalLandTemperaturesByMajorCity.csv\")"
   ]
  },
  {
   "cell_type": "code",
   "execution_count": 3,
   "metadata": {},
   "outputs": [
    {
     "data": {
      "text/html": [
       "<div>\n",
       "<style scoped>\n",
       "    .dataframe tbody tr th:only-of-type {\n",
       "        vertical-align: middle;\n",
       "    }\n",
       "\n",
       "    .dataframe tbody tr th {\n",
       "        vertical-align: top;\n",
       "    }\n",
       "\n",
       "    .dataframe thead th {\n",
       "        text-align: right;\n",
       "    }\n",
       "</style>\n",
       "<table border=\"1\" class=\"dataframe\">\n",
       "  <thead>\n",
       "    <tr style=\"text-align: right;\">\n",
       "      <th></th>\n",
       "      <th>dt</th>\n",
       "      <th>AverageTemperature</th>\n",
       "      <th>AverageTemperatureUncertainty</th>\n",
       "      <th>City</th>\n",
       "      <th>Country</th>\n",
       "      <th>Latitude</th>\n",
       "      <th>Longitude</th>\n",
       "    </tr>\n",
       "  </thead>\n",
       "  <tbody>\n",
       "    <tr>\n",
       "      <th>0</th>\n",
       "      <td>1849-01-01</td>\n",
       "      <td>26.704</td>\n",
       "      <td>1.435</td>\n",
       "      <td>Abidjan</td>\n",
       "      <td>Côte D'Ivoire</td>\n",
       "      <td>5.63N</td>\n",
       "      <td>3.23W</td>\n",
       "    </tr>\n",
       "    <tr>\n",
       "      <th>1</th>\n",
       "      <td>1849-02-01</td>\n",
       "      <td>27.434</td>\n",
       "      <td>1.362</td>\n",
       "      <td>Abidjan</td>\n",
       "      <td>Côte D'Ivoire</td>\n",
       "      <td>5.63N</td>\n",
       "      <td>3.23W</td>\n",
       "    </tr>\n",
       "    <tr>\n",
       "      <th>2</th>\n",
       "      <td>1849-03-01</td>\n",
       "      <td>28.101</td>\n",
       "      <td>1.612</td>\n",
       "      <td>Abidjan</td>\n",
       "      <td>Côte D'Ivoire</td>\n",
       "      <td>5.63N</td>\n",
       "      <td>3.23W</td>\n",
       "    </tr>\n",
       "    <tr>\n",
       "      <th>3</th>\n",
       "      <td>1849-04-01</td>\n",
       "      <td>26.140</td>\n",
       "      <td>1.387</td>\n",
       "      <td>Abidjan</td>\n",
       "      <td>Côte D'Ivoire</td>\n",
       "      <td>5.63N</td>\n",
       "      <td>3.23W</td>\n",
       "    </tr>\n",
       "    <tr>\n",
       "      <th>4</th>\n",
       "      <td>1849-05-01</td>\n",
       "      <td>25.427</td>\n",
       "      <td>1.200</td>\n",
       "      <td>Abidjan</td>\n",
       "      <td>Côte D'Ivoire</td>\n",
       "      <td>5.63N</td>\n",
       "      <td>3.23W</td>\n",
       "    </tr>\n",
       "    <tr>\n",
       "      <th>5</th>\n",
       "      <td>1849-06-01</td>\n",
       "      <td>24.844</td>\n",
       "      <td>1.402</td>\n",
       "      <td>Abidjan</td>\n",
       "      <td>Côte D'Ivoire</td>\n",
       "      <td>5.63N</td>\n",
       "      <td>3.23W</td>\n",
       "    </tr>\n",
       "    <tr>\n",
       "      <th>6</th>\n",
       "      <td>1849-07-01</td>\n",
       "      <td>24.058</td>\n",
       "      <td>1.254</td>\n",
       "      <td>Abidjan</td>\n",
       "      <td>Côte D'Ivoire</td>\n",
       "      <td>5.63N</td>\n",
       "      <td>3.23W</td>\n",
       "    </tr>\n",
       "    <tr>\n",
       "      <th>7</th>\n",
       "      <td>1849-08-01</td>\n",
       "      <td>23.576</td>\n",
       "      <td>1.265</td>\n",
       "      <td>Abidjan</td>\n",
       "      <td>Côte D'Ivoire</td>\n",
       "      <td>5.63N</td>\n",
       "      <td>3.23W</td>\n",
       "    </tr>\n",
       "    <tr>\n",
       "      <th>8</th>\n",
       "      <td>1849-09-01</td>\n",
       "      <td>23.662</td>\n",
       "      <td>1.226</td>\n",
       "      <td>Abidjan</td>\n",
       "      <td>Côte D'Ivoire</td>\n",
       "      <td>5.63N</td>\n",
       "      <td>3.23W</td>\n",
       "    </tr>\n",
       "    <tr>\n",
       "      <th>9</th>\n",
       "      <td>1849-10-01</td>\n",
       "      <td>25.263</td>\n",
       "      <td>1.175</td>\n",
       "      <td>Abidjan</td>\n",
       "      <td>Côte D'Ivoire</td>\n",
       "      <td>5.63N</td>\n",
       "      <td>3.23W</td>\n",
       "    </tr>\n",
       "    <tr>\n",
       "      <th>10</th>\n",
       "      <td>1849-11-01</td>\n",
       "      <td>26.332</td>\n",
       "      <td>1.507</td>\n",
       "      <td>Abidjan</td>\n",
       "      <td>Côte D'Ivoire</td>\n",
       "      <td>5.63N</td>\n",
       "      <td>3.23W</td>\n",
       "    </tr>\n",
       "    <tr>\n",
       "      <th>11</th>\n",
       "      <td>1849-12-01</td>\n",
       "      <td>25.450</td>\n",
       "      <td>1.838</td>\n",
       "      <td>Abidjan</td>\n",
       "      <td>Côte D'Ivoire</td>\n",
       "      <td>5.63N</td>\n",
       "      <td>3.23W</td>\n",
       "    </tr>\n",
       "    <tr>\n",
       "      <th>12</th>\n",
       "      <td>1850-01-01</td>\n",
       "      <td>25.803</td>\n",
       "      <td>1.943</td>\n",
       "      <td>Abidjan</td>\n",
       "      <td>Côte D'Ivoire</td>\n",
       "      <td>5.63N</td>\n",
       "      <td>3.23W</td>\n",
       "    </tr>\n",
       "    <tr>\n",
       "      <th>13</th>\n",
       "      <td>1850-02-01</td>\n",
       "      <td>27.890</td>\n",
       "      <td>1.430</td>\n",
       "      <td>Abidjan</td>\n",
       "      <td>Côte D'Ivoire</td>\n",
       "      <td>5.63N</td>\n",
       "      <td>3.23W</td>\n",
       "    </tr>\n",
       "    <tr>\n",
       "      <th>14</th>\n",
       "      <td>1850-03-01</td>\n",
       "      <td>27.852</td>\n",
       "      <td>2.173</td>\n",
       "      <td>Abidjan</td>\n",
       "      <td>Côte D'Ivoire</td>\n",
       "      <td>5.63N</td>\n",
       "      <td>3.23W</td>\n",
       "    </tr>\n",
       "    <tr>\n",
       "      <th>15</th>\n",
       "      <td>1850-04-01</td>\n",
       "      <td>26.547</td>\n",
       "      <td>1.662</td>\n",
       "      <td>Abidjan</td>\n",
       "      <td>Côte D'Ivoire</td>\n",
       "      <td>5.63N</td>\n",
       "      <td>3.23W</td>\n",
       "    </tr>\n",
       "    <tr>\n",
       "      <th>16</th>\n",
       "      <td>1850-05-01</td>\n",
       "      <td>25.379</td>\n",
       "      <td>1.355</td>\n",
       "      <td>Abidjan</td>\n",
       "      <td>Côte D'Ivoire</td>\n",
       "      <td>5.63N</td>\n",
       "      <td>3.23W</td>\n",
       "    </tr>\n",
       "    <tr>\n",
       "      <th>17</th>\n",
       "      <td>1850-06-01</td>\n",
       "      <td>24.903</td>\n",
       "      <td>1.178</td>\n",
       "      <td>Abidjan</td>\n",
       "      <td>Côte D'Ivoire</td>\n",
       "      <td>5.63N</td>\n",
       "      <td>3.23W</td>\n",
       "    </tr>\n",
       "    <tr>\n",
       "      <th>18</th>\n",
       "      <td>1850-07-01</td>\n",
       "      <td>24.040</td>\n",
       "      <td>1.301</td>\n",
       "      <td>Abidjan</td>\n",
       "      <td>Côte D'Ivoire</td>\n",
       "      <td>5.63N</td>\n",
       "      <td>3.23W</td>\n",
       "    </tr>\n",
       "    <tr>\n",
       "      <th>19</th>\n",
       "      <td>1850-08-01</td>\n",
       "      <td>23.758</td>\n",
       "      <td>1.282</td>\n",
       "      <td>Abidjan</td>\n",
       "      <td>Côte D'Ivoire</td>\n",
       "      <td>5.63N</td>\n",
       "      <td>3.23W</td>\n",
       "    </tr>\n",
       "    <tr>\n",
       "      <th>20</th>\n",
       "      <td>1850-09-01</td>\n",
       "      <td>24.000</td>\n",
       "      <td>1.220</td>\n",
       "      <td>Abidjan</td>\n",
       "      <td>Côte D'Ivoire</td>\n",
       "      <td>5.63N</td>\n",
       "      <td>3.23W</td>\n",
       "    </tr>\n",
       "    <tr>\n",
       "      <th>21</th>\n",
       "      <td>1850-10-01</td>\n",
       "      <td>24.491</td>\n",
       "      <td>1.178</td>\n",
       "      <td>Abidjan</td>\n",
       "      <td>Côte D'Ivoire</td>\n",
       "      <td>5.63N</td>\n",
       "      <td>3.23W</td>\n",
       "    </tr>\n",
       "    <tr>\n",
       "      <th>22</th>\n",
       "      <td>1850-11-01</td>\n",
       "      <td>25.542</td>\n",
       "      <td>1.719</td>\n",
       "      <td>Abidjan</td>\n",
       "      <td>Côte D'Ivoire</td>\n",
       "      <td>5.63N</td>\n",
       "      <td>3.23W</td>\n",
       "    </tr>\n",
       "    <tr>\n",
       "      <th>23</th>\n",
       "      <td>1850-12-01</td>\n",
       "      <td>26.014</td>\n",
       "      <td>1.603</td>\n",
       "      <td>Abidjan</td>\n",
       "      <td>Côte D'Ivoire</td>\n",
       "      <td>5.63N</td>\n",
       "      <td>3.23W</td>\n",
       "    </tr>\n",
       "    <tr>\n",
       "      <th>24</th>\n",
       "      <td>1851-01-01</td>\n",
       "      <td>26.789</td>\n",
       "      <td>1.249</td>\n",
       "      <td>Abidjan</td>\n",
       "      <td>Côte D'Ivoire</td>\n",
       "      <td>5.63N</td>\n",
       "      <td>3.23W</td>\n",
       "    </tr>\n",
       "    <tr>\n",
       "      <th>25</th>\n",
       "      <td>1851-02-01</td>\n",
       "      <td>27.363</td>\n",
       "      <td>1.218</td>\n",
       "      <td>Abidjan</td>\n",
       "      <td>Côte D'Ivoire</td>\n",
       "      <td>5.63N</td>\n",
       "      <td>3.23W</td>\n",
       "    </tr>\n",
       "    <tr>\n",
       "      <th>26</th>\n",
       "      <td>1851-03-01</td>\n",
       "      <td>27.181</td>\n",
       "      <td>1.428</td>\n",
       "      <td>Abidjan</td>\n",
       "      <td>Côte D'Ivoire</td>\n",
       "      <td>5.63N</td>\n",
       "      <td>3.23W</td>\n",
       "    </tr>\n",
       "    <tr>\n",
       "      <th>27</th>\n",
       "      <td>1851-04-01</td>\n",
       "      <td>26.604</td>\n",
       "      <td>1.654</td>\n",
       "      <td>Abidjan</td>\n",
       "      <td>Côte D'Ivoire</td>\n",
       "      <td>5.63N</td>\n",
       "      <td>3.23W</td>\n",
       "    </tr>\n",
       "    <tr>\n",
       "      <th>28</th>\n",
       "      <td>1851-05-01</td>\n",
       "      <td>26.212</td>\n",
       "      <td>1.195</td>\n",
       "      <td>Abidjan</td>\n",
       "      <td>Côte D'Ivoire</td>\n",
       "      <td>5.63N</td>\n",
       "      <td>3.23W</td>\n",
       "    </tr>\n",
       "    <tr>\n",
       "      <th>29</th>\n",
       "      <td>1851-06-01</td>\n",
       "      <td>24.898</td>\n",
       "      <td>1.329</td>\n",
       "      <td>Abidjan</td>\n",
       "      <td>Côte D'Ivoire</td>\n",
       "      <td>5.63N</td>\n",
       "      <td>3.23W</td>\n",
       "    </tr>\n",
       "    <tr>\n",
       "      <th>...</th>\n",
       "      <td>...</td>\n",
       "      <td>...</td>\n",
       "      <td>...</td>\n",
       "      <td>...</td>\n",
       "      <td>...</td>\n",
       "      <td>...</td>\n",
       "      <td>...</td>\n",
       "    </tr>\n",
       "    <tr>\n",
       "      <th>239147</th>\n",
       "      <td>2011-04-01</td>\n",
       "      <td>14.876</td>\n",
       "      <td>0.363</td>\n",
       "      <td>Xian</td>\n",
       "      <td>China</td>\n",
       "      <td>34.56N</td>\n",
       "      <td>108.97E</td>\n",
       "    </tr>\n",
       "    <tr>\n",
       "      <th>239148</th>\n",
       "      <td>2011-05-01</td>\n",
       "      <td>18.225</td>\n",
       "      <td>0.266</td>\n",
       "      <td>Xian</td>\n",
       "      <td>China</td>\n",
       "      <td>34.56N</td>\n",
       "      <td>108.97E</td>\n",
       "    </tr>\n",
       "    <tr>\n",
       "      <th>239149</th>\n",
       "      <td>2011-06-01</td>\n",
       "      <td>23.879</td>\n",
       "      <td>0.533</td>\n",
       "      <td>Xian</td>\n",
       "      <td>China</td>\n",
       "      <td>34.56N</td>\n",
       "      <td>108.97E</td>\n",
       "    </tr>\n",
       "    <tr>\n",
       "      <th>239150</th>\n",
       "      <td>2011-07-01</td>\n",
       "      <td>24.895</td>\n",
       "      <td>0.343</td>\n",
       "      <td>Xian</td>\n",
       "      <td>China</td>\n",
       "      <td>34.56N</td>\n",
       "      <td>108.97E</td>\n",
       "    </tr>\n",
       "    <tr>\n",
       "      <th>239151</th>\n",
       "      <td>2011-08-01</td>\n",
       "      <td>23.069</td>\n",
       "      <td>0.301</td>\n",
       "      <td>Xian</td>\n",
       "      <td>China</td>\n",
       "      <td>34.56N</td>\n",
       "      <td>108.97E</td>\n",
       "    </tr>\n",
       "    <tr>\n",
       "      <th>239152</th>\n",
       "      <td>2011-09-01</td>\n",
       "      <td>16.775</td>\n",
       "      <td>0.208</td>\n",
       "      <td>Xian</td>\n",
       "      <td>China</td>\n",
       "      <td>34.56N</td>\n",
       "      <td>108.97E</td>\n",
       "    </tr>\n",
       "    <tr>\n",
       "      <th>239153</th>\n",
       "      <td>2011-10-01</td>\n",
       "      <td>12.587</td>\n",
       "      <td>0.294</td>\n",
       "      <td>Xian</td>\n",
       "      <td>China</td>\n",
       "      <td>34.56N</td>\n",
       "      <td>108.97E</td>\n",
       "    </tr>\n",
       "    <tr>\n",
       "      <th>239154</th>\n",
       "      <td>2011-11-01</td>\n",
       "      <td>7.543</td>\n",
       "      <td>0.391</td>\n",
       "      <td>Xian</td>\n",
       "      <td>China</td>\n",
       "      <td>34.56N</td>\n",
       "      <td>108.97E</td>\n",
       "    </tr>\n",
       "    <tr>\n",
       "      <th>239155</th>\n",
       "      <td>2011-12-01</td>\n",
       "      <td>-0.490</td>\n",
       "      <td>0.664</td>\n",
       "      <td>Xian</td>\n",
       "      <td>China</td>\n",
       "      <td>34.56N</td>\n",
       "      <td>108.97E</td>\n",
       "    </tr>\n",
       "    <tr>\n",
       "      <th>239156</th>\n",
       "      <td>2012-01-01</td>\n",
       "      <td>-2.416</td>\n",
       "      <td>0.568</td>\n",
       "      <td>Xian</td>\n",
       "      <td>China</td>\n",
       "      <td>34.56N</td>\n",
       "      <td>108.97E</td>\n",
       "    </tr>\n",
       "    <tr>\n",
       "      <th>239157</th>\n",
       "      <td>2012-02-01</td>\n",
       "      <td>0.162</td>\n",
       "      <td>0.505</td>\n",
       "      <td>Xian</td>\n",
       "      <td>China</td>\n",
       "      <td>34.56N</td>\n",
       "      <td>108.97E</td>\n",
       "    </tr>\n",
       "    <tr>\n",
       "      <th>239158</th>\n",
       "      <td>2012-03-01</td>\n",
       "      <td>6.430</td>\n",
       "      <td>0.249</td>\n",
       "      <td>Xian</td>\n",
       "      <td>China</td>\n",
       "      <td>34.56N</td>\n",
       "      <td>108.97E</td>\n",
       "    </tr>\n",
       "    <tr>\n",
       "      <th>239159</th>\n",
       "      <td>2012-04-01</td>\n",
       "      <td>14.908</td>\n",
       "      <td>0.382</td>\n",
       "      <td>Xian</td>\n",
       "      <td>China</td>\n",
       "      <td>34.56N</td>\n",
       "      <td>108.97E</td>\n",
       "    </tr>\n",
       "    <tr>\n",
       "      <th>239160</th>\n",
       "      <td>2012-05-01</td>\n",
       "      <td>19.041</td>\n",
       "      <td>0.372</td>\n",
       "      <td>Xian</td>\n",
       "      <td>China</td>\n",
       "      <td>34.56N</td>\n",
       "      <td>108.97E</td>\n",
       "    </tr>\n",
       "    <tr>\n",
       "      <th>239161</th>\n",
       "      <td>2012-06-01</td>\n",
       "      <td>22.781</td>\n",
       "      <td>1.448</td>\n",
       "      <td>Xian</td>\n",
       "      <td>China</td>\n",
       "      <td>34.56N</td>\n",
       "      <td>108.97E</td>\n",
       "    </tr>\n",
       "    <tr>\n",
       "      <th>239162</th>\n",
       "      <td>2012-07-01</td>\n",
       "      <td>24.646</td>\n",
       "      <td>1.750</td>\n",
       "      <td>Xian</td>\n",
       "      <td>China</td>\n",
       "      <td>34.56N</td>\n",
       "      <td>108.97E</td>\n",
       "    </tr>\n",
       "    <tr>\n",
       "      <th>239163</th>\n",
       "      <td>2012-08-01</td>\n",
       "      <td>23.885</td>\n",
       "      <td>0.435</td>\n",
       "      <td>Xian</td>\n",
       "      <td>China</td>\n",
       "      <td>34.56N</td>\n",
       "      <td>108.97E</td>\n",
       "    </tr>\n",
       "    <tr>\n",
       "      <th>239164</th>\n",
       "      <td>2012-09-01</td>\n",
       "      <td>17.028</td>\n",
       "      <td>1.405</td>\n",
       "      <td>Xian</td>\n",
       "      <td>China</td>\n",
       "      <td>34.56N</td>\n",
       "      <td>108.97E</td>\n",
       "    </tr>\n",
       "    <tr>\n",
       "      <th>239165</th>\n",
       "      <td>2012-10-01</td>\n",
       "      <td>12.399</td>\n",
       "      <td>0.526</td>\n",
       "      <td>Xian</td>\n",
       "      <td>China</td>\n",
       "      <td>34.56N</td>\n",
       "      <td>108.97E</td>\n",
       "    </tr>\n",
       "    <tr>\n",
       "      <th>239166</th>\n",
       "      <td>2012-11-01</td>\n",
       "      <td>4.736</td>\n",
       "      <td>0.519</td>\n",
       "      <td>Xian</td>\n",
       "      <td>China</td>\n",
       "      <td>34.56N</td>\n",
       "      <td>108.97E</td>\n",
       "    </tr>\n",
       "    <tr>\n",
       "      <th>239167</th>\n",
       "      <td>2012-12-01</td>\n",
       "      <td>-0.822</td>\n",
       "      <td>0.451</td>\n",
       "      <td>Xian</td>\n",
       "      <td>China</td>\n",
       "      <td>34.56N</td>\n",
       "      <td>108.97E</td>\n",
       "    </tr>\n",
       "    <tr>\n",
       "      <th>239168</th>\n",
       "      <td>2013-01-01</td>\n",
       "      <td>-1.635</td>\n",
       "      <td>0.432</td>\n",
       "      <td>Xian</td>\n",
       "      <td>China</td>\n",
       "      <td>34.56N</td>\n",
       "      <td>108.97E</td>\n",
       "    </tr>\n",
       "    <tr>\n",
       "      <th>239169</th>\n",
       "      <td>2013-02-01</td>\n",
       "      <td>2.362</td>\n",
       "      <td>0.558</td>\n",
       "      <td>Xian</td>\n",
       "      <td>China</td>\n",
       "      <td>34.56N</td>\n",
       "      <td>108.97E</td>\n",
       "    </tr>\n",
       "    <tr>\n",
       "      <th>239170</th>\n",
       "      <td>2013-03-01</td>\n",
       "      <td>10.110</td>\n",
       "      <td>0.480</td>\n",
       "      <td>Xian</td>\n",
       "      <td>China</td>\n",
       "      <td>34.56N</td>\n",
       "      <td>108.97E</td>\n",
       "    </tr>\n",
       "    <tr>\n",
       "      <th>239171</th>\n",
       "      <td>2013-04-01</td>\n",
       "      <td>12.563</td>\n",
       "      <td>1.823</td>\n",
       "      <td>Xian</td>\n",
       "      <td>China</td>\n",
       "      <td>34.56N</td>\n",
       "      <td>108.97E</td>\n",
       "    </tr>\n",
       "    <tr>\n",
       "      <th>239172</th>\n",
       "      <td>2013-05-01</td>\n",
       "      <td>18.979</td>\n",
       "      <td>0.807</td>\n",
       "      <td>Xian</td>\n",
       "      <td>China</td>\n",
       "      <td>34.56N</td>\n",
       "      <td>108.97E</td>\n",
       "    </tr>\n",
       "    <tr>\n",
       "      <th>239173</th>\n",
       "      <td>2013-06-01</td>\n",
       "      <td>23.522</td>\n",
       "      <td>0.647</td>\n",
       "      <td>Xian</td>\n",
       "      <td>China</td>\n",
       "      <td>34.56N</td>\n",
       "      <td>108.97E</td>\n",
       "    </tr>\n",
       "    <tr>\n",
       "      <th>239174</th>\n",
       "      <td>2013-07-01</td>\n",
       "      <td>25.251</td>\n",
       "      <td>1.042</td>\n",
       "      <td>Xian</td>\n",
       "      <td>China</td>\n",
       "      <td>34.56N</td>\n",
       "      <td>108.97E</td>\n",
       "    </tr>\n",
       "    <tr>\n",
       "      <th>239175</th>\n",
       "      <td>2013-08-01</td>\n",
       "      <td>24.528</td>\n",
       "      <td>0.840</td>\n",
       "      <td>Xian</td>\n",
       "      <td>China</td>\n",
       "      <td>34.56N</td>\n",
       "      <td>108.97E</td>\n",
       "    </tr>\n",
       "    <tr>\n",
       "      <th>239176</th>\n",
       "      <td>2013-09-01</td>\n",
       "      <td>NaN</td>\n",
       "      <td>NaN</td>\n",
       "      <td>Xian</td>\n",
       "      <td>China</td>\n",
       "      <td>34.56N</td>\n",
       "      <td>108.97E</td>\n",
       "    </tr>\n",
       "  </tbody>\n",
       "</table>\n",
       "<p>239177 rows × 7 columns</p>\n",
       "</div>"
      ],
      "text/plain": [
       "                dt  AverageTemperature  AverageTemperatureUncertainty  \\\n",
       "0       1849-01-01              26.704                          1.435   \n",
       "1       1849-02-01              27.434                          1.362   \n",
       "2       1849-03-01              28.101                          1.612   \n",
       "3       1849-04-01              26.140                          1.387   \n",
       "4       1849-05-01              25.427                          1.200   \n",
       "5       1849-06-01              24.844                          1.402   \n",
       "6       1849-07-01              24.058                          1.254   \n",
       "7       1849-08-01              23.576                          1.265   \n",
       "8       1849-09-01              23.662                          1.226   \n",
       "9       1849-10-01              25.263                          1.175   \n",
       "10      1849-11-01              26.332                          1.507   \n",
       "11      1849-12-01              25.450                          1.838   \n",
       "12      1850-01-01              25.803                          1.943   \n",
       "13      1850-02-01              27.890                          1.430   \n",
       "14      1850-03-01              27.852                          2.173   \n",
       "15      1850-04-01              26.547                          1.662   \n",
       "16      1850-05-01              25.379                          1.355   \n",
       "17      1850-06-01              24.903                          1.178   \n",
       "18      1850-07-01              24.040                          1.301   \n",
       "19      1850-08-01              23.758                          1.282   \n",
       "20      1850-09-01              24.000                          1.220   \n",
       "21      1850-10-01              24.491                          1.178   \n",
       "22      1850-11-01              25.542                          1.719   \n",
       "23      1850-12-01              26.014                          1.603   \n",
       "24      1851-01-01              26.789                          1.249   \n",
       "25      1851-02-01              27.363                          1.218   \n",
       "26      1851-03-01              27.181                          1.428   \n",
       "27      1851-04-01              26.604                          1.654   \n",
       "28      1851-05-01              26.212                          1.195   \n",
       "29      1851-06-01              24.898                          1.329   \n",
       "...            ...                 ...                            ...   \n",
       "239147  2011-04-01              14.876                          0.363   \n",
       "239148  2011-05-01              18.225                          0.266   \n",
       "239149  2011-06-01              23.879                          0.533   \n",
       "239150  2011-07-01              24.895                          0.343   \n",
       "239151  2011-08-01              23.069                          0.301   \n",
       "239152  2011-09-01              16.775                          0.208   \n",
       "239153  2011-10-01              12.587                          0.294   \n",
       "239154  2011-11-01               7.543                          0.391   \n",
       "239155  2011-12-01              -0.490                          0.664   \n",
       "239156  2012-01-01              -2.416                          0.568   \n",
       "239157  2012-02-01               0.162                          0.505   \n",
       "239158  2012-03-01               6.430                          0.249   \n",
       "239159  2012-04-01              14.908                          0.382   \n",
       "239160  2012-05-01              19.041                          0.372   \n",
       "239161  2012-06-01              22.781                          1.448   \n",
       "239162  2012-07-01              24.646                          1.750   \n",
       "239163  2012-08-01              23.885                          0.435   \n",
       "239164  2012-09-01              17.028                          1.405   \n",
       "239165  2012-10-01              12.399                          0.526   \n",
       "239166  2012-11-01               4.736                          0.519   \n",
       "239167  2012-12-01              -0.822                          0.451   \n",
       "239168  2013-01-01              -1.635                          0.432   \n",
       "239169  2013-02-01               2.362                          0.558   \n",
       "239170  2013-03-01              10.110                          0.480   \n",
       "239171  2013-04-01              12.563                          1.823   \n",
       "239172  2013-05-01              18.979                          0.807   \n",
       "239173  2013-06-01              23.522                          0.647   \n",
       "239174  2013-07-01              25.251                          1.042   \n",
       "239175  2013-08-01              24.528                          0.840   \n",
       "239176  2013-09-01                 NaN                            NaN   \n",
       "\n",
       "           City        Country Latitude Longitude  \n",
       "0       Abidjan  Côte D'Ivoire    5.63N     3.23W  \n",
       "1       Abidjan  Côte D'Ivoire    5.63N     3.23W  \n",
       "2       Abidjan  Côte D'Ivoire    5.63N     3.23W  \n",
       "3       Abidjan  Côte D'Ivoire    5.63N     3.23W  \n",
       "4       Abidjan  Côte D'Ivoire    5.63N     3.23W  \n",
       "5       Abidjan  Côte D'Ivoire    5.63N     3.23W  \n",
       "6       Abidjan  Côte D'Ivoire    5.63N     3.23W  \n",
       "7       Abidjan  Côte D'Ivoire    5.63N     3.23W  \n",
       "8       Abidjan  Côte D'Ivoire    5.63N     3.23W  \n",
       "9       Abidjan  Côte D'Ivoire    5.63N     3.23W  \n",
       "10      Abidjan  Côte D'Ivoire    5.63N     3.23W  \n",
       "11      Abidjan  Côte D'Ivoire    5.63N     3.23W  \n",
       "12      Abidjan  Côte D'Ivoire    5.63N     3.23W  \n",
       "13      Abidjan  Côte D'Ivoire    5.63N     3.23W  \n",
       "14      Abidjan  Côte D'Ivoire    5.63N     3.23W  \n",
       "15      Abidjan  Côte D'Ivoire    5.63N     3.23W  \n",
       "16      Abidjan  Côte D'Ivoire    5.63N     3.23W  \n",
       "17      Abidjan  Côte D'Ivoire    5.63N     3.23W  \n",
       "18      Abidjan  Côte D'Ivoire    5.63N     3.23W  \n",
       "19      Abidjan  Côte D'Ivoire    5.63N     3.23W  \n",
       "20      Abidjan  Côte D'Ivoire    5.63N     3.23W  \n",
       "21      Abidjan  Côte D'Ivoire    5.63N     3.23W  \n",
       "22      Abidjan  Côte D'Ivoire    5.63N     3.23W  \n",
       "23      Abidjan  Côte D'Ivoire    5.63N     3.23W  \n",
       "24      Abidjan  Côte D'Ivoire    5.63N     3.23W  \n",
       "25      Abidjan  Côte D'Ivoire    5.63N     3.23W  \n",
       "26      Abidjan  Côte D'Ivoire    5.63N     3.23W  \n",
       "27      Abidjan  Côte D'Ivoire    5.63N     3.23W  \n",
       "28      Abidjan  Côte D'Ivoire    5.63N     3.23W  \n",
       "29      Abidjan  Côte D'Ivoire    5.63N     3.23W  \n",
       "...         ...            ...      ...       ...  \n",
       "239147     Xian          China   34.56N   108.97E  \n",
       "239148     Xian          China   34.56N   108.97E  \n",
       "239149     Xian          China   34.56N   108.97E  \n",
       "239150     Xian          China   34.56N   108.97E  \n",
       "239151     Xian          China   34.56N   108.97E  \n",
       "239152     Xian          China   34.56N   108.97E  \n",
       "239153     Xian          China   34.56N   108.97E  \n",
       "239154     Xian          China   34.56N   108.97E  \n",
       "239155     Xian          China   34.56N   108.97E  \n",
       "239156     Xian          China   34.56N   108.97E  \n",
       "239157     Xian          China   34.56N   108.97E  \n",
       "239158     Xian          China   34.56N   108.97E  \n",
       "239159     Xian          China   34.56N   108.97E  \n",
       "239160     Xian          China   34.56N   108.97E  \n",
       "239161     Xian          China   34.56N   108.97E  \n",
       "239162     Xian          China   34.56N   108.97E  \n",
       "239163     Xian          China   34.56N   108.97E  \n",
       "239164     Xian          China   34.56N   108.97E  \n",
       "239165     Xian          China   34.56N   108.97E  \n",
       "239166     Xian          China   34.56N   108.97E  \n",
       "239167     Xian          China   34.56N   108.97E  \n",
       "239168     Xian          China   34.56N   108.97E  \n",
       "239169     Xian          China   34.56N   108.97E  \n",
       "239170     Xian          China   34.56N   108.97E  \n",
       "239171     Xian          China   34.56N   108.97E  \n",
       "239172     Xian          China   34.56N   108.97E  \n",
       "239173     Xian          China   34.56N   108.97E  \n",
       "239174     Xian          China   34.56N   108.97E  \n",
       "239175     Xian          China   34.56N   108.97E  \n",
       "239176     Xian          China   34.56N   108.97E  \n",
       "\n",
       "[239177 rows x 7 columns]"
      ]
     },
     "execution_count": 3,
     "metadata": {},
     "output_type": "execute_result"
    }
   ],
   "source": [
    "df"
   ]
  },
  {
   "cell_type": "code",
   "execution_count": 4,
   "metadata": {},
   "outputs": [
    {
     "data": {
      "text/plain": [
       "False    228175\n",
       "True      11002\n",
       "Name: AverageTemperature, dtype: int64"
      ]
     },
     "execution_count": 4,
     "metadata": {},
     "output_type": "execute_result"
    }
   ],
   "source": [
    "df['AverageTemperature'].isnull().value_counts()"
   ]
  },
  {
   "cell_type": "code",
   "execution_count": 5,
   "metadata": {},
   "outputs": [
    {
     "data": {
      "text/plain": [
       "False    228175\n",
       "True      11002\n",
       "Name: AverageTemperatureUncertainty, dtype: int64"
      ]
     },
     "execution_count": 5,
     "metadata": {},
     "output_type": "execute_result"
    }
   ],
   "source": [
    "df['AverageTemperatureUncertainty'].isnull().value_counts()"
   ]
  },
  {
   "cell_type": "code",
   "execution_count": 6,
   "metadata": {},
   "outputs": [
    {
     "data": {
      "text/html": [
       "<div>\n",
       "<style scoped>\n",
       "    .dataframe tbody tr th:only-of-type {\n",
       "        vertical-align: middle;\n",
       "    }\n",
       "\n",
       "    .dataframe tbody tr th {\n",
       "        vertical-align: top;\n",
       "    }\n",
       "\n",
       "    .dataframe thead th {\n",
       "        text-align: right;\n",
       "    }\n",
       "</style>\n",
       "<table border=\"1\" class=\"dataframe\">\n",
       "  <thead>\n",
       "    <tr style=\"text-align: right;\">\n",
       "      <th></th>\n",
       "      <th>dt</th>\n",
       "      <th>AverageTemperature</th>\n",
       "      <th>AverageTemperatureUncertainty</th>\n",
       "      <th>City</th>\n",
       "      <th>Country</th>\n",
       "      <th>Latitude</th>\n",
       "      <th>Longitude</th>\n",
       "    </tr>\n",
       "  </thead>\n",
       "  <tbody>\n",
       "    <tr>\n",
       "      <th>19945</th>\n",
       "      <td>2013-07-01</td>\n",
       "      <td>25.008</td>\n",
       "      <td>0.416</td>\n",
       "      <td>Bangalore</td>\n",
       "      <td>India</td>\n",
       "      <td>12.05N</td>\n",
       "      <td>77.26E</td>\n",
       "    </tr>\n",
       "    <tr>\n",
       "      <th>19946</th>\n",
       "      <td>2013-08-01</td>\n",
       "      <td>25.236</td>\n",
       "      <td>0.520</td>\n",
       "      <td>Bangalore</td>\n",
       "      <td>India</td>\n",
       "      <td>12.05N</td>\n",
       "      <td>77.26E</td>\n",
       "    </tr>\n",
       "    <tr>\n",
       "      <th>19947</th>\n",
       "      <td>2013-09-01</td>\n",
       "      <td>NaN</td>\n",
       "      <td>NaN</td>\n",
       "      <td>Bangalore</td>\n",
       "      <td>India</td>\n",
       "      <td>12.05N</td>\n",
       "      <td>77.26E</td>\n",
       "    </tr>\n",
       "    <tr>\n",
       "      <th>19948</th>\n",
       "      <td>1816-03-01</td>\n",
       "      <td>27.426</td>\n",
       "      <td>1.793</td>\n",
       "      <td>Bangkok</td>\n",
       "      <td>Thailand</td>\n",
       "      <td>13.66N</td>\n",
       "      <td>99.91E</td>\n",
       "    </tr>\n",
       "  </tbody>\n",
       "</table>\n",
       "</div>"
      ],
      "text/plain": [
       "               dt  AverageTemperature  AverageTemperatureUncertainty  \\\n",
       "19945  2013-07-01              25.008                          0.416   \n",
       "19946  2013-08-01              25.236                          0.520   \n",
       "19947  2013-09-01                 NaN                            NaN   \n",
       "19948  1816-03-01              27.426                          1.793   \n",
       "\n",
       "            City   Country Latitude Longitude  \n",
       "19945  Bangalore     India   12.05N    77.26E  \n",
       "19946  Bangalore     India   12.05N    77.26E  \n",
       "19947  Bangalore     India   12.05N    77.26E  \n",
       "19948    Bangkok  Thailand   13.66N    99.91E  "
      ]
     },
     "execution_count": 6,
     "metadata": {},
     "output_type": "execute_result"
    }
   ],
   "source": [
    "df[19945:19949]"
   ]
  },
  {
   "cell_type": "code",
   "execution_count": 7,
   "metadata": {},
   "outputs": [],
   "source": [
    "list=df.City.unique()"
   ]
  },
  {
   "cell_type": "code",
   "execution_count": 8,
   "metadata": {},
   "outputs": [],
   "source": [
    "#Here we clear the Nan values in our data based on city wise analysis.\n",
    "for i in list:\n",
    "    df.loc[df['City']==i]=df.loc[df['City']==i].interpolate()"
   ]
  },
  {
   "cell_type": "code",
   "execution_count": 9,
   "metadata": {},
   "outputs": [
    {
     "data": {
      "text/html": [
       "<div>\n",
       "<style scoped>\n",
       "    .dataframe tbody tr th:only-of-type {\n",
       "        vertical-align: middle;\n",
       "    }\n",
       "\n",
       "    .dataframe tbody tr th {\n",
       "        vertical-align: top;\n",
       "    }\n",
       "\n",
       "    .dataframe thead th {\n",
       "        text-align: right;\n",
       "    }\n",
       "</style>\n",
       "<table border=\"1\" class=\"dataframe\">\n",
       "  <thead>\n",
       "    <tr style=\"text-align: right;\">\n",
       "      <th></th>\n",
       "      <th>dt</th>\n",
       "      <th>AverageTemperature</th>\n",
       "      <th>AverageTemperatureUncertainty</th>\n",
       "      <th>City</th>\n",
       "      <th>Country</th>\n",
       "      <th>Latitude</th>\n",
       "      <th>Longitude</th>\n",
       "    </tr>\n",
       "  </thead>\n",
       "  <tbody>\n",
       "    <tr>\n",
       "      <th>19945</th>\n",
       "      <td>2013-07-01</td>\n",
       "      <td>25.008</td>\n",
       "      <td>0.416</td>\n",
       "      <td>Bangalore</td>\n",
       "      <td>India</td>\n",
       "      <td>12.05N</td>\n",
       "      <td>77.26E</td>\n",
       "    </tr>\n",
       "    <tr>\n",
       "      <th>19946</th>\n",
       "      <td>2013-08-01</td>\n",
       "      <td>25.236</td>\n",
       "      <td>0.520</td>\n",
       "      <td>Bangalore</td>\n",
       "      <td>India</td>\n",
       "      <td>12.05N</td>\n",
       "      <td>77.26E</td>\n",
       "    </tr>\n",
       "    <tr>\n",
       "      <th>19947</th>\n",
       "      <td>2013-09-01</td>\n",
       "      <td>25.236</td>\n",
       "      <td>0.520</td>\n",
       "      <td>Bangalore</td>\n",
       "      <td>India</td>\n",
       "      <td>12.05N</td>\n",
       "      <td>77.26E</td>\n",
       "    </tr>\n",
       "    <tr>\n",
       "      <th>19948</th>\n",
       "      <td>1816-03-01</td>\n",
       "      <td>27.426</td>\n",
       "      <td>1.793</td>\n",
       "      <td>Bangkok</td>\n",
       "      <td>Thailand</td>\n",
       "      <td>13.66N</td>\n",
       "      <td>99.91E</td>\n",
       "    </tr>\n",
       "  </tbody>\n",
       "</table>\n",
       "</div>"
      ],
      "text/plain": [
       "               dt  AverageTemperature  AverageTemperatureUncertainty  \\\n",
       "19945  2013-07-01              25.008                          0.416   \n",
       "19946  2013-08-01              25.236                          0.520   \n",
       "19947  2013-09-01              25.236                          0.520   \n",
       "19948  1816-03-01              27.426                          1.793   \n",
       "\n",
       "            City   Country Latitude Longitude  \n",
       "19945  Bangalore     India   12.05N    77.26E  \n",
       "19946  Bangalore     India   12.05N    77.26E  \n",
       "19947  Bangalore     India   12.05N    77.26E  \n",
       "19948    Bangkok  Thailand   13.66N    99.91E  "
      ]
     },
     "execution_count": 9,
     "metadata": {},
     "output_type": "execute_result"
    }
   ],
   "source": [
    "df[19945:19949]"
   ]
  },
  {
   "cell_type": "code",
   "execution_count": 10,
   "metadata": {},
   "outputs": [
    {
     "data": {
      "text/plain": [
       "False    239177\n",
       "Name: AverageTemperatureUncertainty, dtype: int64"
      ]
     },
     "execution_count": 10,
     "metadata": {},
     "output_type": "execute_result"
    }
   ],
   "source": [
    "df['AverageTemperatureUncertainty'].isnull().value_counts()"
   ]
  },
  {
   "cell_type": "code",
   "execution_count": 11,
   "metadata": {},
   "outputs": [
    {
     "data": {
      "text/plain": [
       "False    239177\n",
       "Name: AverageTemperature, dtype: int64"
      ]
     },
     "execution_count": 11,
     "metadata": {},
     "output_type": "execute_result"
    }
   ],
   "source": [
    "df['AverageTemperature'].isnull().value_counts()"
   ]
  },
  {
   "cell_type": "code",
   "execution_count": 12,
   "metadata": {},
   "outputs": [
    {
     "data": {
      "image/png": "[encoded data removed]",
      "text/plain": [
       "<Figure size 432x288 with 1 Axes>"
      ]
     },
     "metadata": {
      "needs_background": "light"
     },
     "output_type": "display_data"
    }
   ],
   "source": [
    "# a negatively skewed histogram is obtained on Average Temperature data.\n",
    "plt.hist(df['AverageTemperature'], color = 'blue', edgecolor = 'black',\n",
    "         bins = 20)\n",
    "plt.xlabel('AverageTemperature')\n",
    "plt.ylabel('Frequency')\n",
    "plt.title('Histogram1')\n",
    "plt.show()"
   ]
  },
  {
   "cell_type": "code",
   "execution_count": 13,
   "metadata": {},
   "outputs": [
    {
     "data": {
      "image/png": "[encoded data removed]",
      "text/plain": [
       "<Figure size 432x288 with 1 Axes>"
      ]
     },
     "metadata": {
      "needs_background": "light"
     },
     "output_type": "display_data"
    }
   ],
   "source": [
    "# a negatively skewed histogram is obtained on Average Temperature data with line fit.\n",
    "sns.distplot(df['AverageTemperature'], hist=True, kde=True, bins=20, color = 'darkblue', \n",
    "             hist_kws={'edgecolor':'black'}, kde_kws={'linewidth': 4})\n",
    "plt.xlabel('AverageTemperature')\n",
    "plt.ylabel('Frequency')\n",
    "plt.title('Histogram1')\n",
    "plt.show()"
   ]
  },
  {
   "cell_type": "code",
   "execution_count": 14,
   "metadata": {},
   "outputs": [
    {
     "name": "stdout",
     "output_type": "stream",
     "text": [
      "Mean: 18.172452967885707\n",
      "Median: 20.479\n",
      "Mode: 26.612\n",
      "Standard deviation pop: 9.951819045569652\n",
      "S D: 9.951839849932638\n"
     ]
    }
   ],
   "source": [
    "#Population parameters and statistics using inbuilt libraries.\n",
    "print(\"Mean:\",st.mean(df['AverageTemperature']))\n",
    "print(\"Median:\",st.median(df['AverageTemperature']))\n",
    "print(\"Mode:\",st.mode(df['AverageTemperature']))\n",
    "print(\"Standard deviation pop:\",st.pstdev(df['AverageTemperature']))\n",
    "print(\"S D:\",st.stdev(df['AverageTemperature']))"
   ]
  },
  {
   "cell_type": "code",
   "execution_count": 15,
   "metadata": {},
   "outputs": [
    {
     "name": "stdout",
     "output_type": "stream",
     "text": [
      "1.Based on Histogram we can analise that the parameters are matching with what is computed using inbuilt libraries.\n",
      "2.As positively skewed mean < median < mode\n",
      "2.We can infer that there are few places with negative temperatures. We can find few such cities.\n",
      "3.But we can infer that majority of cities have positive temperatures from yhe graph.\n",
      "4.The graph is negatively skewed.\n"
     ]
    }
   ],
   "source": [
    "#Parameters using the histogram.\n",
    "print(\"1.Based on Histogram we can analise that the parameters are matching with what is computed using inbuilt libraries.\")\n",
    "print(\"2.As positively skewed mean < median < mode\")\n",
    "print(\"2.We can infer that there are few places with negative temperatures. We can find few such cities.\")\n",
    "print(\"3.But we can infer that majority of cities have positive temperatures from yhe graph.\")\n",
    "print(\"4.The graph is negatively skewed.\")"
   ]
  },
  {
   "cell_type": "code",
   "execution_count": 16,
   "metadata": {},
   "outputs": [
    {
     "name": "stdout",
     "output_type": "stream",
     "text": [
      "{'Harbin', 'New York', 'Tokyo', 'Moscow', 'Mashhad', 'Shenyang', 'London', 'Saint Petersburg', 'Santiago', 'Madrid', 'Jinan', 'Nanjing', 'Chengdu', 'Rome', 'Changchun', 'Chicago', 'Istanbul', 'Peking', 'Taiyuan', 'Dalian', 'Kabul', 'Berlin', 'Shanghai', 'Ankara', 'Toronto', 'Xian', 'Montreal', 'Tangshan', 'Paris', 'Tianjin', 'Kiev', 'Wuhan', 'Seoul'}\n",
      "Number of cities: 33\n"
     ]
    }
   ],
   "source": [
    "#We find the number of cities and their names whose average temperature is equal to 0.\n",
    "ds=df.loc[df['AverageTemperature']<0]\n",
    "n_city=set(ds.City)\n",
    "print(n_city)\n",
    "print(\"Number of cities:\",len(n_city))"
   ]
  },
  {
   "cell_type": "code",
   "execution_count": 17,
   "metadata": {},
   "outputs": [
    {
     "data": {
      "image/png": "[encoded data removed]",
      "text/plain": [
       "<Figure size 432x288 with 1 Axes>"
      ]
     },
     "metadata": {
      "needs_background": "light"
     },
     "output_type": "display_data"
    }
   ],
   "source": [
    "plt.hist(df['AverageTemperatureUncertainty'], color = 'green', edgecolor = 'black',\n",
    "         bins = 20)\n",
    "plt.xlabel('AverageTemperatureUncertainty')\n",
    "plt.ylabel('Frequency')\n",
    "plt.title('Histogram2')\n",
    "plt.show()"
   ]
  },
  {
   "cell_type": "code",
   "execution_count": 18,
   "metadata": {},
   "outputs": [
    {
     "data": {
      "image/png": "[encoded data removed]",
      "text/plain": [
       "<Figure size 432x288 with 1 Axes>"
      ]
     },
     "metadata": {
      "needs_background": "light"
     },
     "output_type": "display_data"
    }
   ],
   "source": [
    "#Positively skewed graph for the uncertainity\n",
    "sns.distplot(df['AverageTemperatureUncertainty'], hist=True, kde=True, bins=20, color = 'darkgreen', \n",
    "             hist_kws={'edgecolor':'black'}, kde_kws={'linewidth': 4})\n",
    "plt.xlabel('AverageTemperatureUncertainty')\n",
    "plt.ylabel('Frequency')\n",
    "plt.title('Histogram2')\n",
    "plt.show()"
   ]
  },
  {
   "cell_type": "code",
   "execution_count": 19,
   "metadata": {},
   "outputs": [
    {
     "name": "stdout",
     "output_type": "stream",
     "text": [
      "Mean: 1.0088659925494508\n",
      "Median: 0.631\n",
      "Mode: 0.256\n",
      "Standard deviation pop: 0.9821093564750616\n",
      "S D: 0.9821114095830865\n"
     ]
    }
   ],
   "source": [
    "#Population parameters and statistics using inbuilt libraries.\n",
    "print(\"Mean:\",st.mean(df['AverageTemperatureUncertainty']))\n",
    "print(\"Median:\",st.median(df['AverageTemperatureUncertainty']))\n",
    "print(\"Mode:\",st.mode(df['AverageTemperatureUncertainty']))\n",
    "print(\"Standard deviation pop:\",st.pstdev(df['AverageTemperatureUncertainty']))\n",
    "print(\"S D:\",st.stdev(df['AverageTemperatureUncertainty']))"
   ]
  },
  {
   "cell_type": "code",
   "execution_count": 20,
   "metadata": {},
   "outputs": [
    {
     "name": "stdout",
     "output_type": "stream",
     "text": [
      "1.The graph is highly positively skewed.\n",
      "2.As positively skewed mean > median > mode\n",
      "3.The graph may contain few outliers.\n",
      "4.This is unimodal with peak at the starting\n"
     ]
    }
   ],
   "source": [
    "#Inferences ,ade on the graph\n",
    "print(\"1.The graph is highly positively skewed.\")\n",
    "print(\"2.As positively skewed mean > median > mode\")\n",
    "print(\"3.The graph may contain few outliers.\")\n",
    "print(\"4.This is unimodal with peak at the starting\")"
   ]
  },
  {
   "cell_type": "code",
   "execution_count": 21,
   "metadata": {},
   "outputs": [
    {
     "data": {
      "image/png": "[encoded data removed]",
      "text/plain": [
       "<Figure size 432x288 with 1 Axes>"
      ]
     },
     "metadata": {
      "needs_background": "light"
     },
     "output_type": "display_data"
    }
   ],
   "source": [
    "#Box plot is to identify the outliers\n",
    "#hence we suspect the outliers in case of AverageTemperatureUncertainty\n",
    "plt.boxplot(df['AverageTemperatureUncertainty'], meanline=True, showmeans=True, vert=True)   #to show the mean of the datapoints\n",
    "plt.show()\n"
   ]
  },
  {
   "cell_type": "code",
   "execution_count": 22,
   "metadata": {},
   "outputs": [
    {
     "data": {
      "text/plain": [
       "<matplotlib.axes._subplots.AxesSubplot at 0x22b93438eb8>"
      ]
     },
     "execution_count": 22,
     "metadata": {},
     "output_type": "execute_result"
    },
    {
     "data": {
      "image/png": "[encoded data removed]",
      "text/plain": [
       "<Figure size 432x288 with 1 Axes>"
      ]
     },
     "metadata": {
      "needs_background": "light"
     },
     "output_type": "display_data"
    }
   ],
   "source": [
    "#Box plot is to identify the outliers\n",
    "#hence we suspect the outliers in case of AverageTemperature\n",
    "sns.boxplot(data=df['AverageTemperature'])"
   ]
  },
  {
   "cell_type": "code",
   "execution_count": 23,
   "metadata": {},
   "outputs": [
    {
     "name": "stdout",
     "output_type": "stream",
     "text": [
      "For Average Temperature:\n",
      "13.043\n",
      "12.866 20.479 25.909\n",
      "13.043\n",
      "\n",
      "\n",
      "For Average Temperature:\n",
      "1.073\n",
      "0.349 0.631 1.422\n",
      "1.073\n"
     ]
    }
   ],
   "source": [
    "#Hence we need to remove the outliers and then use the data\n",
    "#for that we need to compute Inter-Quartile Range(IQR)\n",
    "print(\"For Average Temperature:\")\n",
    "IQR=sc.stats.iqr(df['AverageTemperature'])\n",
    "print(IQR)\n",
    "Q1=np.quantile(df['AverageTemperature'],0.25)\n",
    "Q2=np.quantile(df['AverageTemperature'],0.5)\n",
    "Q3=np.quantile(df['AverageTemperature'],0.75)\n",
    "IQR1=Q3-Q1\n",
    "print(Q1, Q2, Q3)\n",
    "print(IQR1)\n",
    "print()\n",
    "print()\n",
    "#Same is done for Average Temperature Uncertainity\n",
    "print(\"For Average Temperature:\")\n",
    "IQRU=sc.stats.iqr(df['AverageTemperatureUncertainty'])\n",
    "print(IQRU)\n",
    "QU1=np.quantile(df['AverageTemperatureUncertainty'],0.25)\n",
    "QU2=np.quantile(df['AverageTemperatureUncertainty'],0.5)\n",
    "QU3=np.quantile(df['AverageTemperatureUncertainty'],0.75)\n",
    "IQRU1=QU3-QU1\n",
    "print(QU1, QU2, QU3)\n",
    "print(IQRU1)"
   ]
  },
  {
   "cell_type": "code",
   "execution_count": 24,
   "metadata": {},
   "outputs": [
    {
     "name": "stdout",
     "output_type": "stream",
     "text": [
      "For Average Temperature:\n",
      "45.4735 -6.698499999999999\n",
      "\n",
      "\n",
      "For Average Temperature Uncertainity:\n",
      "3.0315 -1.2605\n"
     ]
    }
   ],
   "source": [
    "#Eliminate all outliers based on formulae\n",
    "print(\"For Average Temperature:\")\n",
    "O=Q3+1.5*IQR\n",
    "O1=Q1-1.5*IQR\n",
    "print(O,O1)\n",
    "print()\n",
    "print()\n",
    "print(\"For Average Temperature Uncertainity:\")\n",
    "OU=QU3+1.5*IQRU\n",
    "OU1=QU1-1.5*IQRU\n",
    "print(OU,OU1)"
   ]
  },
  {
   "cell_type": "code",
   "execution_count": 25,
   "metadata": {},
   "outputs": [
    {
     "data": {
      "text/html": [
       "<div>\n",
       "<style scoped>\n",
       "    .dataframe tbody tr th:only-of-type {\n",
       "        vertical-align: middle;\n",
       "    }\n",
       "\n",
       "    .dataframe tbody tr th {\n",
       "        vertical-align: top;\n",
       "    }\n",
       "\n",
       "    .dataframe thead th {\n",
       "        text-align: right;\n",
       "    }\n",
       "</style>\n",
       "<table border=\"1\" class=\"dataframe\">\n",
       "  <thead>\n",
       "    <tr style=\"text-align: right;\">\n",
       "      <th></th>\n",
       "      <th>dt</th>\n",
       "      <th>AverageTemperature</th>\n",
       "      <th>AverageTemperatureUncertainty</th>\n",
       "      <th>City</th>\n",
       "      <th>Country</th>\n",
       "      <th>Latitude</th>\n",
       "      <th>Longitude</th>\n",
       "    </tr>\n",
       "  </thead>\n",
       "  <tbody>\n",
       "  </tbody>\n",
       "</table>\n",
       "</div>"
      ],
      "text/plain": [
       "Empty DataFrame\n",
       "Columns: [dt, AverageTemperature, AverageTemperatureUncertainty, City, Country, Latitude, Longitude]\n",
       "Index: []"
      ]
     },
     "execution_count": 25,
     "metadata": {},
     "output_type": "execute_result"
    }
   ],
   "source": [
    "df.loc[df['AverageTemperature']>45.4735]\n",
    "#hence eliminate only the lower bound of it\n",
    "#Same is for Average Temperature Uncertainity which has upper bound"
   ]
  },
  {
   "cell_type": "code",
   "execution_count": 26,
   "metadata": {},
   "outputs": [
    {
     "name": "stdout",
     "output_type": "stream",
     "text": [
      "dt                               225978\n",
      "AverageTemperature               225978\n",
      "AverageTemperatureUncertainty    225978\n",
      "City                             225978\n",
      "Country                          225978\n",
      "Latitude                         225978\n",
      "Longitude                        225978\n",
      "dtype: int64\n"
     ]
    }
   ],
   "source": [
    "#we need to drop all these values \n",
    "#df.loc[df['AverageTemperatureUncertainty']>3.0315]\n",
    "#df.loc[df['AverageTemperature']<-6.6985]\n",
    "#So we can use\n",
    "df=df.loc[df['AverageTemperatureUncertainty']<=3.0315]\n",
    "df=df.loc[df['AverageTemperature']>=-6.6985]\n",
    "print(df.count())"
   ]
  },
  {
   "cell_type": "code",
   "execution_count": 27,
   "metadata": {},
   "outputs": [
    {
     "data": {
      "text/plain": [
       "<matplotlib.axes._subplots.AxesSubplot at 0x22b93112908>"
      ]
     },
     "execution_count": 27,
     "metadata": {},
     "output_type": "execute_result"
    },
    {
     "data": {
      "image/png": "[encoded data removed]",
      "text/plain": [
       "<Figure size 432x288 with 1 Axes>"
      ]
     },
     "metadata": {
      "needs_background": "light"
     },
     "output_type": "display_data"
    }
   ],
   "source": [
    "#Now we plot the graph to check if outliers are removed(Only the required range of them are present)\n",
    "sns.boxplot(data=df['AverageTemperature'])"
   ]
  },
  {
   "cell_type": "code",
   "execution_count": 28,
   "metadata": {},
   "outputs": [
    {
     "data": {
      "text/plain": [
       "<matplotlib.axes._subplots.AxesSubplot at 0x22b93578cc0>"
      ]
     },
     "execution_count": 28,
     "metadata": {},
     "output_type": "execute_result"
    },
    {
     "data": {
      "image/png": "[encoded data removed]",
      "text/plain": [
       "<Figure size 432x288 with 1 Axes>"
      ]
     },
     "metadata": {
      "needs_background": "light"
     },
     "output_type": "display_data"
    }
   ],
   "source": [
    "#Now we plot the graph to check if outliers are removed(Only the required range of them are present)\n",
    "sns.boxplot(data=df['AverageTemperatureUncertainty'])"
   ]
  },
  {
   "cell_type": "code",
   "execution_count": 29,
   "metadata": {},
   "outputs": [
    {
     "name": "stdout",
     "output_type": "stream",
     "text": [
      "{'Hyderabad', 'Bangalore', 'Madras', 'Nagpur', 'Bombay', 'Pune', 'Delhi', 'Kanpur', 'Ahmadabad', 'Surat', 'Jaipur', 'New Delhi', 'Lakhnau', 'Calcutta'}\n"
     ]
    }
   ],
   "source": [
    "India_city=set(df.loc[df['Country']=='India'].City)\n",
    "print(India_city)\n",
    "India_df=df.loc[df['Country']=='India']"
   ]
  },
  {
   "cell_type": "code",
   "execution_count": 30,
   "metadata": {},
   "outputs": [],
   "source": [
    "#I restrict my population for now to Indian Cities\n",
    "city_temp={}\n",
    "av_temp_days=[]\n",
    "lat=[]\n",
    "for i in India_city:\n",
    "    city_temp[i]=np.mean(India_df.loc[India_df['City']==i].AverageTemperature)\n",
    "    av_temp_days.append(np.mean(India_df.loc[India_df['City']==i].AverageTemperature))"
   ]
  },
  {
   "cell_type": "code",
   "execution_count": 31,
   "metadata": {},
   "outputs": [
    {
     "data": {
      "text/plain": [
       "{'Hyderabad': 26.83381731351175,\n",
       " 'Bangalore': 24.855663020758016,\n",
       " 'Madras': 28.423769220475076,\n",
       " 'Nagpur': 25.520765364423976,\n",
       " 'Bombay': 26.57689002064929,\n",
       " 'Pune': 24.574179136478694,\n",
       " 'Delhi': 24.366728407033875,\n",
       " 'Kanpur': 24.47810144080997,\n",
       " 'Ahmadabad': 26.350090668217653,\n",
       " 'Surat': 26.176486705577172,\n",
       " 'Jaipur': 24.72515211486224,\n",
       " 'New Delhi': 24.366728407033875,\n",
       " 'Lakhnau': 24.47810144080997,\n",
       " 'Calcutta': 25.9120688548218}"
      ]
     },
     "execution_count": 31,
     "metadata": {},
     "output_type": "execute_result"
    }
   ],
   "source": [
    "# Dictionary containing the average temperature of cities across all the days\n",
    "city_temp"
   ]
  },
  {
   "cell_type": "code",
   "execution_count": 32,
   "metadata": {},
   "outputs": [
    {
     "data": {
      "image/png": "[encoded data removed]",
      "text/plain": [
       "<Figure size 1080x720 with 1 Axes>"
      ]
     },
     "metadata": {
      "needs_background": "light"
     },
     "output_type": "display_data"
    }
   ],
   "source": [
    "#Line plot to infer about the average temperature across different cities in India.\n",
    "plt.figure(figsize=(15,10))\n",
    "plt.plot([*India_city,], av_temp_days, color='orange')\n",
    "plt.xlabel('Indian Cities',fontsize=15)\n",
    "plt.ylabel('Average temperature across that city',fontsize=15)\n",
    "plt.title('Comparison of temperature in different Indian cities',fontsize=24)\n",
    "plt.show()"
   ]
  },
  {
   "cell_type": "code",
   "execution_count": 33,
   "metadata": {},
   "outputs": [],
   "source": [
    "#Inferences are:(it can be taken as correlation between the graphs)\n",
    "#1.Madras city has the highest temperature when compared to all other cities.\n",
    "#2.New Delhi and Delhi are cities which have less average as they might have more variation in temperature.\n",
    "#3.Lakhnau is place where the temperature is normally less hence rhe average temperature is less."
   ]
  },
  {
   "cell_type": "code",
   "execution_count": 34,
   "metadata": {},
   "outputs": [
    {
     "data": {
      "text/html": [
       "<div>\n",
       "<style scoped>\n",
       "    .dataframe tbody tr th:only-of-type {\n",
       "        vertical-align: middle;\n",
       "    }\n",
       "\n",
       "    .dataframe tbody tr th {\n",
       "        vertical-align: top;\n",
       "    }\n",
       "\n",
       "    .dataframe thead th {\n",
       "        text-align: right;\n",
       "    }\n",
       "</style>\n",
       "<table border=\"1\" class=\"dataframe\">\n",
       "  <thead>\n",
       "    <tr style=\"text-align: right;\">\n",
       "      <th></th>\n",
       "      <th>dt</th>\n",
       "      <th>AverageTemperature</th>\n",
       "      <th>AverageTemperatureUncertainty</th>\n",
       "      <th>City</th>\n",
       "      <th>Country</th>\n",
       "      <th>Latitude</th>\n",
       "      <th>Longitude</th>\n",
       "    </tr>\n",
       "  </thead>\n",
       "  <tbody>\n",
       "    <tr>\n",
       "      <th>51674</th>\n",
       "      <td>1743-11-01</td>\n",
       "      <td>5.436000</td>\n",
       "      <td>2.205000</td>\n",
       "      <td>Chicago</td>\n",
       "      <td>United States</td>\n",
       "      <td>42.59N</td>\n",
       "      <td>87.27W</td>\n",
       "    </tr>\n",
       "    <tr>\n",
       "      <th>51675</th>\n",
       "      <td>1743-12-01</td>\n",
       "      <td>6.102000</td>\n",
       "      <td>2.235400</td>\n",
       "      <td>Chicago</td>\n",
       "      <td>United States</td>\n",
       "      <td>42.59N</td>\n",
       "      <td>87.27W</td>\n",
       "    </tr>\n",
       "    <tr>\n",
       "      <th>51676</th>\n",
       "      <td>1744-01-01</td>\n",
       "      <td>6.768000</td>\n",
       "      <td>2.265800</td>\n",
       "      <td>Chicago</td>\n",
       "      <td>United States</td>\n",
       "      <td>42.59N</td>\n",
       "      <td>87.27W</td>\n",
       "    </tr>\n",
       "    <tr>\n",
       "      <th>51677</th>\n",
       "      <td>1744-02-01</td>\n",
       "      <td>7.434000</td>\n",
       "      <td>2.296200</td>\n",
       "      <td>Chicago</td>\n",
       "      <td>United States</td>\n",
       "      <td>42.59N</td>\n",
       "      <td>87.27W</td>\n",
       "    </tr>\n",
       "    <tr>\n",
       "      <th>51678</th>\n",
       "      <td>1744-03-01</td>\n",
       "      <td>8.100000</td>\n",
       "      <td>2.326600</td>\n",
       "      <td>Chicago</td>\n",
       "      <td>United States</td>\n",
       "      <td>42.59N</td>\n",
       "      <td>87.27W</td>\n",
       "    </tr>\n",
       "    <tr>\n",
       "      <th>51679</th>\n",
       "      <td>1744-04-01</td>\n",
       "      <td>8.766000</td>\n",
       "      <td>2.357000</td>\n",
       "      <td>Chicago</td>\n",
       "      <td>United States</td>\n",
       "      <td>42.59N</td>\n",
       "      <td>87.27W</td>\n",
       "    </tr>\n",
       "    <tr>\n",
       "      <th>51680</th>\n",
       "      <td>1744-05-01</td>\n",
       "      <td>11.605000</td>\n",
       "      <td>2.102000</td>\n",
       "      <td>Chicago</td>\n",
       "      <td>United States</td>\n",
       "      <td>42.59N</td>\n",
       "      <td>87.27W</td>\n",
       "    </tr>\n",
       "    <tr>\n",
       "      <th>51681</th>\n",
       "      <td>1744-06-01</td>\n",
       "      <td>17.965000</td>\n",
       "      <td>1.989000</td>\n",
       "      <td>Chicago</td>\n",
       "      <td>United States</td>\n",
       "      <td>42.59N</td>\n",
       "      <td>87.27W</td>\n",
       "    </tr>\n",
       "    <tr>\n",
       "      <th>51682</th>\n",
       "      <td>1744-07-01</td>\n",
       "      <td>21.680000</td>\n",
       "      <td>1.786000</td>\n",
       "      <td>Chicago</td>\n",
       "      <td>United States</td>\n",
       "      <td>42.59N</td>\n",
       "      <td>87.27W</td>\n",
       "    </tr>\n",
       "    <tr>\n",
       "      <th>51683</th>\n",
       "      <td>1744-08-01</td>\n",
       "      <td>19.355000</td>\n",
       "      <td>1.856500</td>\n",
       "      <td>Chicago</td>\n",
       "      <td>United States</td>\n",
       "      <td>42.59N</td>\n",
       "      <td>87.27W</td>\n",
       "    </tr>\n",
       "    <tr>\n",
       "      <th>51684</th>\n",
       "      <td>1744-09-01</td>\n",
       "      <td>17.030000</td>\n",
       "      <td>1.927000</td>\n",
       "      <td>Chicago</td>\n",
       "      <td>United States</td>\n",
       "      <td>42.59N</td>\n",
       "      <td>87.27W</td>\n",
       "    </tr>\n",
       "    <tr>\n",
       "      <th>51685</th>\n",
       "      <td>1744-10-01</td>\n",
       "      <td>10.662000</td>\n",
       "      <td>2.165000</td>\n",
       "      <td>Chicago</td>\n",
       "      <td>United States</td>\n",
       "      <td>42.59N</td>\n",
       "      <td>87.27W</td>\n",
       "    </tr>\n",
       "    <tr>\n",
       "      <th>51686</th>\n",
       "      <td>1744-11-01</td>\n",
       "      <td>5.776000</td>\n",
       "      <td>2.083000</td>\n",
       "      <td>Chicago</td>\n",
       "      <td>United States</td>\n",
       "      <td>42.59N</td>\n",
       "      <td>87.27W</td>\n",
       "    </tr>\n",
       "    <tr>\n",
       "      <th>51687</th>\n",
       "      <td>1744-12-01</td>\n",
       "      <td>0.371000</td>\n",
       "      <td>2.471000</td>\n",
       "      <td>Chicago</td>\n",
       "      <td>United States</td>\n",
       "      <td>42.59N</td>\n",
       "      <td>87.27W</td>\n",
       "    </tr>\n",
       "    <tr>\n",
       "      <th>51688</th>\n",
       "      <td>1745-01-01</td>\n",
       "      <td>-0.901000</td>\n",
       "      <td>2.649000</td>\n",
       "      <td>Chicago</td>\n",
       "      <td>United States</td>\n",
       "      <td>42.59N</td>\n",
       "      <td>87.27W</td>\n",
       "    </tr>\n",
       "    <tr>\n",
       "      <th>51689</th>\n",
       "      <td>1745-02-01</td>\n",
       "      <td>-0.422000</td>\n",
       "      <td>2.494000</td>\n",
       "      <td>Chicago</td>\n",
       "      <td>United States</td>\n",
       "      <td>42.59N</td>\n",
       "      <td>87.27W</td>\n",
       "    </tr>\n",
       "    <tr>\n",
       "      <th>51690</th>\n",
       "      <td>1745-03-01</td>\n",
       "      <td>1.865000</td>\n",
       "      <td>2.363000</td>\n",
       "      <td>Chicago</td>\n",
       "      <td>United States</td>\n",
       "      <td>42.59N</td>\n",
       "      <td>87.27W</td>\n",
       "    </tr>\n",
       "    <tr>\n",
       "      <th>51691</th>\n",
       "      <td>1745-04-01</td>\n",
       "      <td>6.654000</td>\n",
       "      <td>1.987000</td>\n",
       "      <td>Chicago</td>\n",
       "      <td>United States</td>\n",
       "      <td>42.59N</td>\n",
       "      <td>87.27W</td>\n",
       "    </tr>\n",
       "    <tr>\n",
       "      <th>51692</th>\n",
       "      <td>1745-05-01</td>\n",
       "      <td>6.520316</td>\n",
       "      <td>1.997351</td>\n",
       "      <td>Chicago</td>\n",
       "      <td>United States</td>\n",
       "      <td>42.59N</td>\n",
       "      <td>87.27W</td>\n",
       "    </tr>\n",
       "    <tr>\n",
       "      <th>51693</th>\n",
       "      <td>1745-06-01</td>\n",
       "      <td>6.386632</td>\n",
       "      <td>2.007702</td>\n",
       "      <td>Chicago</td>\n",
       "      <td>United States</td>\n",
       "      <td>42.59N</td>\n",
       "      <td>87.27W</td>\n",
       "    </tr>\n",
       "    <tr>\n",
       "      <th>51694</th>\n",
       "      <td>1745-07-01</td>\n",
       "      <td>6.252947</td>\n",
       "      <td>2.018053</td>\n",
       "      <td>Chicago</td>\n",
       "      <td>United States</td>\n",
       "      <td>42.59N</td>\n",
       "      <td>87.27W</td>\n",
       "    </tr>\n",
       "    <tr>\n",
       "      <th>51695</th>\n",
       "      <td>1745-08-01</td>\n",
       "      <td>6.119263</td>\n",
       "      <td>2.028404</td>\n",
       "      <td>Chicago</td>\n",
       "      <td>United States</td>\n",
       "      <td>42.59N</td>\n",
       "      <td>87.27W</td>\n",
       "    </tr>\n",
       "    <tr>\n",
       "      <th>51696</th>\n",
       "      <td>1745-09-01</td>\n",
       "      <td>5.985579</td>\n",
       "      <td>2.038754</td>\n",
       "      <td>Chicago</td>\n",
       "      <td>United States</td>\n",
       "      <td>42.59N</td>\n",
       "      <td>87.27W</td>\n",
       "    </tr>\n",
       "    <tr>\n",
       "      <th>51697</th>\n",
       "      <td>1745-10-01</td>\n",
       "      <td>5.851895</td>\n",
       "      <td>2.049105</td>\n",
       "      <td>Chicago</td>\n",
       "      <td>United States</td>\n",
       "      <td>42.59N</td>\n",
       "      <td>87.27W</td>\n",
       "    </tr>\n",
       "    <tr>\n",
       "      <th>51698</th>\n",
       "      <td>1745-11-01</td>\n",
       "      <td>5.718211</td>\n",
       "      <td>2.059456</td>\n",
       "      <td>Chicago</td>\n",
       "      <td>United States</td>\n",
       "      <td>42.59N</td>\n",
       "      <td>87.27W</td>\n",
       "    </tr>\n",
       "    <tr>\n",
       "      <th>51699</th>\n",
       "      <td>1745-12-01</td>\n",
       "      <td>5.584526</td>\n",
       "      <td>2.069807</td>\n",
       "      <td>Chicago</td>\n",
       "      <td>United States</td>\n",
       "      <td>42.59N</td>\n",
       "      <td>87.27W</td>\n",
       "    </tr>\n",
       "    <tr>\n",
       "      <th>51700</th>\n",
       "      <td>1746-01-01</td>\n",
       "      <td>5.450842</td>\n",
       "      <td>2.080158</td>\n",
       "      <td>Chicago</td>\n",
       "      <td>United States</td>\n",
       "      <td>42.59N</td>\n",
       "      <td>87.27W</td>\n",
       "    </tr>\n",
       "    <tr>\n",
       "      <th>51701</th>\n",
       "      <td>1746-02-01</td>\n",
       "      <td>5.317158</td>\n",
       "      <td>2.090509</td>\n",
       "      <td>Chicago</td>\n",
       "      <td>United States</td>\n",
       "      <td>42.59N</td>\n",
       "      <td>87.27W</td>\n",
       "    </tr>\n",
       "    <tr>\n",
       "      <th>51702</th>\n",
       "      <td>1746-03-01</td>\n",
       "      <td>5.183474</td>\n",
       "      <td>2.100860</td>\n",
       "      <td>Chicago</td>\n",
       "      <td>United States</td>\n",
       "      <td>42.59N</td>\n",
       "      <td>87.27W</td>\n",
       "    </tr>\n",
       "    <tr>\n",
       "      <th>51703</th>\n",
       "      <td>1746-04-01</td>\n",
       "      <td>5.049789</td>\n",
       "      <td>2.111211</td>\n",
       "      <td>Chicago</td>\n",
       "      <td>United States</td>\n",
       "      <td>42.59N</td>\n",
       "      <td>87.27W</td>\n",
       "    </tr>\n",
       "    <tr>\n",
       "      <th>...</th>\n",
       "      <td>...</td>\n",
       "      <td>...</td>\n",
       "      <td>...</td>\n",
       "      <td>...</td>\n",
       "      <td>...</td>\n",
       "      <td>...</td>\n",
       "      <td>...</td>\n",
       "    </tr>\n",
       "    <tr>\n",
       "      <th>54883</th>\n",
       "      <td>2011-04-01</td>\n",
       "      <td>7.383000</td>\n",
       "      <td>0.265000</td>\n",
       "      <td>Chicago</td>\n",
       "      <td>United States</td>\n",
       "      <td>42.59N</td>\n",
       "      <td>87.27W</td>\n",
       "    </tr>\n",
       "    <tr>\n",
       "      <th>54884</th>\n",
       "      <td>2011-05-01</td>\n",
       "      <td>12.133000</td>\n",
       "      <td>0.733000</td>\n",
       "      <td>Chicago</td>\n",
       "      <td>United States</td>\n",
       "      <td>42.59N</td>\n",
       "      <td>87.27W</td>\n",
       "    </tr>\n",
       "    <tr>\n",
       "      <th>54885</th>\n",
       "      <td>2011-06-01</td>\n",
       "      <td>18.011000</td>\n",
       "      <td>0.773000</td>\n",
       "      <td>Chicago</td>\n",
       "      <td>United States</td>\n",
       "      <td>42.59N</td>\n",
       "      <td>87.27W</td>\n",
       "    </tr>\n",
       "    <tr>\n",
       "      <th>54886</th>\n",
       "      <td>2011-07-01</td>\n",
       "      <td>24.412000</td>\n",
       "      <td>0.255000</td>\n",
       "      <td>Chicago</td>\n",
       "      <td>United States</td>\n",
       "      <td>42.59N</td>\n",
       "      <td>87.27W</td>\n",
       "    </tr>\n",
       "    <tr>\n",
       "      <th>54887</th>\n",
       "      <td>2011-08-01</td>\n",
       "      <td>23.414000</td>\n",
       "      <td>0.404000</td>\n",
       "      <td>Chicago</td>\n",
       "      <td>United States</td>\n",
       "      <td>42.59N</td>\n",
       "      <td>87.27W</td>\n",
       "    </tr>\n",
       "    <tr>\n",
       "      <th>54888</th>\n",
       "      <td>2011-09-01</td>\n",
       "      <td>18.331000</td>\n",
       "      <td>0.173000</td>\n",
       "      <td>Chicago</td>\n",
       "      <td>United States</td>\n",
       "      <td>42.59N</td>\n",
       "      <td>87.27W</td>\n",
       "    </tr>\n",
       "    <tr>\n",
       "      <th>54889</th>\n",
       "      <td>2011-10-01</td>\n",
       "      <td>13.837000</td>\n",
       "      <td>0.154000</td>\n",
       "      <td>Chicago</td>\n",
       "      <td>United States</td>\n",
       "      <td>42.59N</td>\n",
       "      <td>87.27W</td>\n",
       "    </tr>\n",
       "    <tr>\n",
       "      <th>54890</th>\n",
       "      <td>2011-11-01</td>\n",
       "      <td>9.555000</td>\n",
       "      <td>0.334000</td>\n",
       "      <td>Chicago</td>\n",
       "      <td>United States</td>\n",
       "      <td>42.59N</td>\n",
       "      <td>87.27W</td>\n",
       "    </tr>\n",
       "    <tr>\n",
       "      <th>54891</th>\n",
       "      <td>2011-12-01</td>\n",
       "      <td>5.327000</td>\n",
       "      <td>0.483000</td>\n",
       "      <td>Chicago</td>\n",
       "      <td>United States</td>\n",
       "      <td>42.59N</td>\n",
       "      <td>87.27W</td>\n",
       "    </tr>\n",
       "    <tr>\n",
       "      <th>54892</th>\n",
       "      <td>2012-01-01</td>\n",
       "      <td>2.670000</td>\n",
       "      <td>0.727000</td>\n",
       "      <td>Chicago</td>\n",
       "      <td>United States</td>\n",
       "      <td>42.59N</td>\n",
       "      <td>87.27W</td>\n",
       "    </tr>\n",
       "    <tr>\n",
       "      <th>54893</th>\n",
       "      <td>2012-02-01</td>\n",
       "      <td>3.698000</td>\n",
       "      <td>0.567000</td>\n",
       "      <td>Chicago</td>\n",
       "      <td>United States</td>\n",
       "      <td>42.59N</td>\n",
       "      <td>87.27W</td>\n",
       "    </tr>\n",
       "    <tr>\n",
       "      <th>54894</th>\n",
       "      <td>2012-03-01</td>\n",
       "      <td>12.145000</td>\n",
       "      <td>0.369000</td>\n",
       "      <td>Chicago</td>\n",
       "      <td>United States</td>\n",
       "      <td>42.59N</td>\n",
       "      <td>87.27W</td>\n",
       "    </tr>\n",
       "    <tr>\n",
       "      <th>54895</th>\n",
       "      <td>2012-04-01</td>\n",
       "      <td>8.383000</td>\n",
       "      <td>0.347000</td>\n",
       "      <td>Chicago</td>\n",
       "      <td>United States</td>\n",
       "      <td>42.59N</td>\n",
       "      <td>87.27W</td>\n",
       "    </tr>\n",
       "    <tr>\n",
       "      <th>54896</th>\n",
       "      <td>2012-05-01</td>\n",
       "      <td>14.956000</td>\n",
       "      <td>0.835000</td>\n",
       "      <td>Chicago</td>\n",
       "      <td>United States</td>\n",
       "      <td>42.59N</td>\n",
       "      <td>87.27W</td>\n",
       "    </tr>\n",
       "    <tr>\n",
       "      <th>54897</th>\n",
       "      <td>2012-06-01</td>\n",
       "      <td>19.532000</td>\n",
       "      <td>0.519000</td>\n",
       "      <td>Chicago</td>\n",
       "      <td>United States</td>\n",
       "      <td>42.59N</td>\n",
       "      <td>87.27W</td>\n",
       "    </tr>\n",
       "    <tr>\n",
       "      <th>54898</th>\n",
       "      <td>2012-07-01</td>\n",
       "      <td>25.909000</td>\n",
       "      <td>0.516000</td>\n",
       "      <td>Chicago</td>\n",
       "      <td>United States</td>\n",
       "      <td>42.59N</td>\n",
       "      <td>87.27W</td>\n",
       "    </tr>\n",
       "    <tr>\n",
       "      <th>54899</th>\n",
       "      <td>2012-08-01</td>\n",
       "      <td>22.778000</td>\n",
       "      <td>0.420000</td>\n",
       "      <td>Chicago</td>\n",
       "      <td>United States</td>\n",
       "      <td>42.59N</td>\n",
       "      <td>87.27W</td>\n",
       "    </tr>\n",
       "    <tr>\n",
       "      <th>54900</th>\n",
       "      <td>2012-09-01</td>\n",
       "      <td>18.693000</td>\n",
       "      <td>0.329000</td>\n",
       "      <td>Chicago</td>\n",
       "      <td>United States</td>\n",
       "      <td>42.59N</td>\n",
       "      <td>87.27W</td>\n",
       "    </tr>\n",
       "    <tr>\n",
       "      <th>54901</th>\n",
       "      <td>2012-10-01</td>\n",
       "      <td>12.229000</td>\n",
       "      <td>0.333000</td>\n",
       "      <td>Chicago</td>\n",
       "      <td>United States</td>\n",
       "      <td>42.59N</td>\n",
       "      <td>87.27W</td>\n",
       "    </tr>\n",
       "    <tr>\n",
       "      <th>54902</th>\n",
       "      <td>2012-11-01</td>\n",
       "      <td>7.270000</td>\n",
       "      <td>0.263000</td>\n",
       "      <td>Chicago</td>\n",
       "      <td>United States</td>\n",
       "      <td>42.59N</td>\n",
       "      <td>87.27W</td>\n",
       "    </tr>\n",
       "    <tr>\n",
       "      <th>54903</th>\n",
       "      <td>2012-12-01</td>\n",
       "      <td>5.592000</td>\n",
       "      <td>0.537000</td>\n",
       "      <td>Chicago</td>\n",
       "      <td>United States</td>\n",
       "      <td>42.59N</td>\n",
       "      <td>87.27W</td>\n",
       "    </tr>\n",
       "    <tr>\n",
       "      <th>54904</th>\n",
       "      <td>2013-01-01</td>\n",
       "      <td>1.056000</td>\n",
       "      <td>0.528000</td>\n",
       "      <td>Chicago</td>\n",
       "      <td>United States</td>\n",
       "      <td>42.59N</td>\n",
       "      <td>87.27W</td>\n",
       "    </tr>\n",
       "    <tr>\n",
       "      <th>54905</th>\n",
       "      <td>2013-02-01</td>\n",
       "      <td>-0.509000</td>\n",
       "      <td>0.473000</td>\n",
       "      <td>Chicago</td>\n",
       "      <td>United States</td>\n",
       "      <td>42.59N</td>\n",
       "      <td>87.27W</td>\n",
       "    </tr>\n",
       "    <tr>\n",
       "      <th>54906</th>\n",
       "      <td>2013-03-01</td>\n",
       "      <td>1.323000</td>\n",
       "      <td>0.275000</td>\n",
       "      <td>Chicago</td>\n",
       "      <td>United States</td>\n",
       "      <td>42.59N</td>\n",
       "      <td>87.27W</td>\n",
       "    </tr>\n",
       "    <tr>\n",
       "      <th>54907</th>\n",
       "      <td>2013-04-01</td>\n",
       "      <td>6.644000</td>\n",
       "      <td>0.462000</td>\n",
       "      <td>Chicago</td>\n",
       "      <td>United States</td>\n",
       "      <td>42.59N</td>\n",
       "      <td>87.27W</td>\n",
       "    </tr>\n",
       "    <tr>\n",
       "      <th>54908</th>\n",
       "      <td>2013-05-01</td>\n",
       "      <td>13.734000</td>\n",
       "      <td>0.863000</td>\n",
       "      <td>Chicago</td>\n",
       "      <td>United States</td>\n",
       "      <td>42.59N</td>\n",
       "      <td>87.27W</td>\n",
       "    </tr>\n",
       "    <tr>\n",
       "      <th>54909</th>\n",
       "      <td>2013-06-01</td>\n",
       "      <td>17.913000</td>\n",
       "      <td>0.669000</td>\n",
       "      <td>Chicago</td>\n",
       "      <td>United States</td>\n",
       "      <td>42.59N</td>\n",
       "      <td>87.27W</td>\n",
       "    </tr>\n",
       "    <tr>\n",
       "      <th>54910</th>\n",
       "      <td>2013-07-01</td>\n",
       "      <td>21.914000</td>\n",
       "      <td>0.322000</td>\n",
       "      <td>Chicago</td>\n",
       "      <td>United States</td>\n",
       "      <td>42.59N</td>\n",
       "      <td>87.27W</td>\n",
       "    </tr>\n",
       "    <tr>\n",
       "      <th>54911</th>\n",
       "      <td>2013-08-01</td>\n",
       "      <td>22.230000</td>\n",
       "      <td>0.373000</td>\n",
       "      <td>Chicago</td>\n",
       "      <td>United States</td>\n",
       "      <td>42.59N</td>\n",
       "      <td>87.27W</td>\n",
       "    </tr>\n",
       "    <tr>\n",
       "      <th>54912</th>\n",
       "      <td>2013-09-01</td>\n",
       "      <td>19.977000</td>\n",
       "      <td>1.033000</td>\n",
       "      <td>Chicago</td>\n",
       "      <td>United States</td>\n",
       "      <td>42.59N</td>\n",
       "      <td>87.27W</td>\n",
       "    </tr>\n",
       "  </tbody>\n",
       "</table>\n",
       "<p>2888 rows × 7 columns</p>\n",
       "</div>"
      ],
      "text/plain": [
       "               dt  AverageTemperature  AverageTemperatureUncertainty     City  \\\n",
       "51674  1743-11-01            5.436000                       2.205000  Chicago   \n",
       "51675  1743-12-01            6.102000                       2.235400  Chicago   \n",
       "51676  1744-01-01            6.768000                       2.265800  Chicago   \n",
       "51677  1744-02-01            7.434000                       2.296200  Chicago   \n",
       "51678  1744-03-01            8.100000                       2.326600  Chicago   \n",
       "51679  1744-04-01            8.766000                       2.357000  Chicago   \n",
       "51680  1744-05-01           11.605000                       2.102000  Chicago   \n",
       "51681  1744-06-01           17.965000                       1.989000  Chicago   \n",
       "51682  1744-07-01           21.680000                       1.786000  Chicago   \n",
       "51683  1744-08-01           19.355000                       1.856500  Chicago   \n",
       "51684  1744-09-01           17.030000                       1.927000  Chicago   \n",
       "51685  1744-10-01           10.662000                       2.165000  Chicago   \n",
       "51686  1744-11-01            5.776000                       2.083000  Chicago   \n",
       "51687  1744-12-01            0.371000                       2.471000  Chicago   \n",
       "51688  1745-01-01           -0.901000                       2.649000  Chicago   \n",
       "51689  1745-02-01           -0.422000                       2.494000  Chicago   \n",
       "51690  1745-03-01            1.865000                       2.363000  Chicago   \n",
       "51691  1745-04-01            6.654000                       1.987000  Chicago   \n",
       "51692  1745-05-01            6.520316                       1.997351  Chicago   \n",
       "51693  1745-06-01            6.386632                       2.007702  Chicago   \n",
       "51694  1745-07-01            6.252947                       2.018053  Chicago   \n",
       "51695  1745-08-01            6.119263                       2.028404  Chicago   \n",
       "51696  1745-09-01            5.985579                       2.038754  Chicago   \n",
       "51697  1745-10-01            5.851895                       2.049105  Chicago   \n",
       "51698  1745-11-01            5.718211                       2.059456  Chicago   \n",
       "51699  1745-12-01            5.584526                       2.069807  Chicago   \n",
       "51700  1746-01-01            5.450842                       2.080158  Chicago   \n",
       "51701  1746-02-01            5.317158                       2.090509  Chicago   \n",
       "51702  1746-03-01            5.183474                       2.100860  Chicago   \n",
       "51703  1746-04-01            5.049789                       2.111211  Chicago   \n",
       "...           ...                 ...                            ...      ...   \n",
       "54883  2011-04-01            7.383000                       0.265000  Chicago   \n",
       "54884  2011-05-01           12.133000                       0.733000  Chicago   \n",
       "54885  2011-06-01           18.011000                       0.773000  Chicago   \n",
       "54886  2011-07-01           24.412000                       0.255000  Chicago   \n",
       "54887  2011-08-01           23.414000                       0.404000  Chicago   \n",
       "54888  2011-09-01           18.331000                       0.173000  Chicago   \n",
       "54889  2011-10-01           13.837000                       0.154000  Chicago   \n",
       "54890  2011-11-01            9.555000                       0.334000  Chicago   \n",
       "54891  2011-12-01            5.327000                       0.483000  Chicago   \n",
       "54892  2012-01-01            2.670000                       0.727000  Chicago   \n",
       "54893  2012-02-01            3.698000                       0.567000  Chicago   \n",
       "54894  2012-03-01           12.145000                       0.369000  Chicago   \n",
       "54895  2012-04-01            8.383000                       0.347000  Chicago   \n",
       "54896  2012-05-01           14.956000                       0.835000  Chicago   \n",
       "54897  2012-06-01           19.532000                       0.519000  Chicago   \n",
       "54898  2012-07-01           25.909000                       0.516000  Chicago   \n",
       "54899  2012-08-01           22.778000                       0.420000  Chicago   \n",
       "54900  2012-09-01           18.693000                       0.329000  Chicago   \n",
       "54901  2012-10-01           12.229000                       0.333000  Chicago   \n",
       "54902  2012-11-01            7.270000                       0.263000  Chicago   \n",
       "54903  2012-12-01            5.592000                       0.537000  Chicago   \n",
       "54904  2013-01-01            1.056000                       0.528000  Chicago   \n",
       "54905  2013-02-01           -0.509000                       0.473000  Chicago   \n",
       "54906  2013-03-01            1.323000                       0.275000  Chicago   \n",
       "54907  2013-04-01            6.644000                       0.462000  Chicago   \n",
       "54908  2013-05-01           13.734000                       0.863000  Chicago   \n",
       "54909  2013-06-01           17.913000                       0.669000  Chicago   \n",
       "54910  2013-07-01           21.914000                       0.322000  Chicago   \n",
       "54911  2013-08-01           22.230000                       0.373000  Chicago   \n",
       "54912  2013-09-01           19.977000                       1.033000  Chicago   \n",
       "\n",
       "             Country Latitude Longitude  \n",
       "51674  United States   42.59N    87.27W  \n",
       "51675  United States   42.59N    87.27W  \n",
       "51676  United States   42.59N    87.27W  \n",
       "51677  United States   42.59N    87.27W  \n",
       "51678  United States   42.59N    87.27W  \n",
       "51679  United States   42.59N    87.27W  \n",
       "51680  United States   42.59N    87.27W  \n",
       "51681  United States   42.59N    87.27W  \n",
       "51682  United States   42.59N    87.27W  \n",
       "51683  United States   42.59N    87.27W  \n",
       "51684  United States   42.59N    87.27W  \n",
       "51685  United States   42.59N    87.27W  \n",
       "51686  United States   42.59N    87.27W  \n",
       "51687  United States   42.59N    87.27W  \n",
       "51688  United States   42.59N    87.27W  \n",
       "51689  United States   42.59N    87.27W  \n",
       "51690  United States   42.59N    87.27W  \n",
       "51691  United States   42.59N    87.27W  \n",
       "51692  United States   42.59N    87.27W  \n",
       "51693  United States   42.59N    87.27W  \n",
       "51694  United States   42.59N    87.27W  \n",
       "51695  United States   42.59N    87.27W  \n",
       "51696  United States   42.59N    87.27W  \n",
       "51697  United States   42.59N    87.27W  \n",
       "51698  United States   42.59N    87.27W  \n",
       "51699  United States   42.59N    87.27W  \n",
       "51700  United States   42.59N    87.27W  \n",
       "51701  United States   42.59N    87.27W  \n",
       "51702  United States   42.59N    87.27W  \n",
       "51703  United States   42.59N    87.27W  \n",
       "...              ...      ...       ...  \n",
       "54883  United States   42.59N    87.27W  \n",
       "54884  United States   42.59N    87.27W  \n",
       "54885  United States   42.59N    87.27W  \n",
       "54886  United States   42.59N    87.27W  \n",
       "54887  United States   42.59N    87.27W  \n",
       "54888  United States   42.59N    87.27W  \n",
       "54889  United States   42.59N    87.27W  \n",
       "54890  United States   42.59N    87.27W  \n",
       "54891  United States   42.59N    87.27W  \n",
       "54892  United States   42.59N    87.27W  \n",
       "54893  United States   42.59N    87.27W  \n",
       "54894  United States   42.59N    87.27W  \n",
       "54895  United States   42.59N    87.27W  \n",
       "54896  United States   42.59N    87.27W  \n",
       "54897  United States   42.59N    87.27W  \n",
       "54898  United States   42.59N    87.27W  \n",
       "54899  United States   42.59N    87.27W  \n",
       "54900  United States   42.59N    87.27W  \n",
       "54901  United States   42.59N    87.27W  \n",
       "54902  United States   42.59N    87.27W  \n",
       "54903  United States   42.59N    87.27W  \n",
       "54904  United States   42.59N    87.27W  \n",
       "54905  United States   42.59N    87.27W  \n",
       "54906  United States   42.59N    87.27W  \n",
       "54907  United States   42.59N    87.27W  \n",
       "54908  United States   42.59N    87.27W  \n",
       "54909  United States   42.59N    87.27W  \n",
       "54910  United States   42.59N    87.27W  \n",
       "54911  United States   42.59N    87.27W  \n",
       "54912  United States   42.59N    87.27W  \n",
       "\n",
       "[2888 rows x 7 columns]"
      ]
     },
     "execution_count": 34,
     "metadata": {},
     "output_type": "execute_result"
    }
   ],
   "source": [
    "# we will use Chicago city as population for Hypothesis testing\n",
    "Chic_df=df.loc[df['City']=='Chicago']\n",
    "Chic_df"
   ]
  },
  {
   "cell_type": "code",
   "execution_count": 35,
   "metadata": {},
   "outputs": [],
   "source": [
    "#we take Chicago city as the population and then further continue with hypothesis testing.\n",
    "# Iniltially we normalise a sample taken from Chicago."
   ]
  },
  {
   "cell_type": "code",
   "execution_count": 36,
   "metadata": {},
   "outputs": [
    {
     "name": "stdout",
     "output_type": "stream",
     "text": [
      "10.428115246999077 8.252172823694936\n"
     ]
    }
   ],
   "source": [
    "mu=st.mean(Chic_df['AverageTemperature'])\n",
    "sigma=st.stdev(Chic_df['AverageTemperature'])\n",
    "print(mu,sigma)"
   ]
  },
  {
   "cell_type": "code",
   "execution_count": 37,
   "metadata": {
    "scrolled": false
   },
   "outputs": [
    {
     "name": "stdout",
     "output_type": "stream",
     "text": [
      "10.428115246999077 8.644717416298082\n"
     ]
    }
   ],
   "source": [
    "#sample from chicago\n",
    "from random import sample\n",
    "n=100\n",
    "s=sample([*Chic_df['AverageTemperature'],],n)\n",
    "xbar=st.mean(s)\n",
    "sd=st.stdev(s)\n",
    "print(mu,sd)"
   ]
  },
  {
   "cell_type": "code",
   "execution_count": 38,
   "metadata": {},
   "outputs": [
    {
     "data": {
      "image/png": "[encoded data removed]",
      "text/plain": [
       "<Figure size 432x288 with 1 Axes>"
      ]
     },
     "metadata": {
      "needs_background": "light"
     },
     "output_type": "display_data"
    }
   ],
   "source": [
    "#plot the sample\n",
    "plt.hist(s)\n",
    "plt.show()"
   ]
  },
  {
   "cell_type": "code",
   "execution_count": 39,
   "metadata": {},
   "outputs": [],
   "source": [
    "#This normal distribotion can be normalised by making mean 0 and standard deviation 1\n",
    "#array is the population\n",
    "array=[*Chic_df['AverageTemperature'],]\n",
    "#Sampling distribution taking many sample means into considerations\n",
    "mu=st.mean(array)\n",
    "sigma=st.stdev(array)\n",
    "def normalise(arr, n, number_of_samples):\n",
    "    normal=[]\n",
    "    x=[]\n",
    "    sd=sigma/math.sqrt(n)\n",
    "    for i in range(0,number_of_samples):\n",
    "        s=sample(array,n)\n",
    "        xbar=st.mean(s)\n",
    "        x.append(xbar)\n",
    "        l=(xbar-mu)/sd\n",
    "        normal.append(l)\n",
    "    plt.hist(x, color='blue', edgecolor='black')\n",
    "    plt.xlabel(\"Sample Means\")\n",
    "    plt.ylabel(\"Frequency\")\n",
    "    plt.title(\"Sampling Distribution of Mean\")\n",
    "    plt.show()\n",
    "    \n",
    "    plt.hist(normal, color='green', edgecolor='black')\n",
    "    plt.xlabel(\"Sample Means\")\n",
    "    plt.ylabel(\"Frequency\")\n",
    "    plt.title(\"Normalised Sampling Distribution of Mean\")\n",
    "    plt.show()\n",
    "    \n",
    "    sns.distplot(x, hist=True, kde=True, bins=10, color = 'darkblue', \n",
    "             hist_kws={'edgecolor':'black'}, kde_kws={'linewidth': 4})\n",
    "    \n",
    "    sns.distplot(normal, hist=True, kde=True, bins=10, color = 'darkgreen', \n",
    "             hist_kws={'edgecolor':'black'}, kde_kws={'linewidth': 4})\n",
    "    "
   ]
  },
  {
   "cell_type": "code",
   "execution_count": 40,
   "metadata": {},
   "outputs": [
    {
     "data": {
      "image/png": "[encoded data removed]",
      "text/plain": [
       "<Figure size 432x288 with 1 Axes>"
      ]
     },
     "metadata": {
      "needs_background": "light"
     },
     "output_type": "display_data"
    },
    {
     "data": {
      "image/png": "[encoded data removed]",
      "text/plain": [
       "<Figure size 432x288 with 1 Axes>"
      ]
     },
     "metadata": {
      "needs_background": "light"
     },
     "output_type": "display_data"
    },
    {
     "data": {
      "image/png": "[encoded data removed]",
      "text/plain": [
       "<Figure size 432x288 with 1 Axes>"
      ]
     },
     "metadata": {
      "needs_background": "light"
     },
     "output_type": "display_data"
    }
   ],
   "source": [
    "#With n<30 (t distribution is seen)\n",
    "normalise(array, 15, 500)"
   ]
  },
  {
   "cell_type": "code",
   "execution_count": 41,
   "metadata": {},
   "outputs": [
    {
     "data": {
      "image/png": "[encoded data removed]",
      "text/plain": [
       "<Figure size 432x288 with 1 Axes>"
      ]
     },
     "metadata": {
      "needs_background": "light"
     },
     "output_type": "display_data"
    },
    {
     "data": {
      "image/png": "[encoded data removed]",
      "text/plain": [
       "<Figure size 432x288 with 1 Axes>"
      ]
     },
     "metadata": {
      "needs_background": "light"
     },
     "output_type": "display_data"
    },
    {
     "data": {
      "image/png": "[encoded data removed]",
      "text/plain": [
       "<Figure size 432x288 with 1 Axes>"
      ]
     },
     "metadata": {
      "needs_background": "light"
     },
     "output_type": "display_data"
    }
   ],
   "source": [
    "normalise(array , 25, 500)"
   ]
  },
  {
   "cell_type": "code",
   "execution_count": 42,
   "metadata": {},
   "outputs": [
    {
     "data": {
      "image/png": "[encoded data removed]",
      "text/plain": [
       "<Figure size 432x288 with 1 Axes>"
      ]
     },
     "metadata": {
      "needs_background": "light"
     },
     "output_type": "display_data"
    },
    {
     "data": {
      "image/png": "[encoded data removed]",
      "text/plain": [
       "<Figure size 432x288 with 1 Axes>"
      ]
     },
     "metadata": {
      "needs_background": "light"
     },
     "output_type": "display_data"
    },
    {
     "data": {
      "image/png": "[encoded data removed]",
      "text/plain": [
       "<Figure size 432x288 with 1 Axes>"
      ]
     },
     "metadata": {
      "needs_background": "light"
     },
     "output_type": "display_data"
    }
   ],
   "source": [
    "#with n=30 approximate z distribution can be obtained\n",
    "normalise(array, 30, 500)"
   ]
  },
  {
   "cell_type": "code",
   "execution_count": 43,
   "metadata": {},
   "outputs": [
    {
     "data": {
      "image/png": "[encoded data removed]",
      "text/plain": [
       "<Figure size 432x288 with 1 Axes>"
      ]
     },
     "metadata": {
      "needs_background": "light"
     },
     "output_type": "display_data"
    },
    {
     "data": {
      "image/png": "[encoded data removed]",
      "text/plain": [
       "<Figure size 432x288 with 1 Axes>"
      ]
     },
     "metadata": {
      "needs_background": "light"
     },
     "output_type": "display_data"
    },
    {
     "data": {
      "image/png": "[encoded data removed]",
      "text/plain": [
       "<Figure size 432x288 with 1 Axes>"
      ]
     },
     "metadata": {
      "needs_background": "light"
     },
     "output_type": "display_data"
    }
   ],
   "source": [
    "#with n>30 normal distribution can be perfectly obtained\n",
    "normalise(array, 50, 500)"
   ]
  },
  {
   "cell_type": "code",
   "execution_count": 44,
   "metadata": {},
   "outputs": [
    {
     "data": {
      "image/png": "[encoded data removed]",
      "text/plain": [
       "<Figure size 432x288 with 1 Axes>"
      ]
     },
     "metadata": {
      "needs_background": "light"
     },
     "output_type": "display_data"
    },
    {
     "data": {
      "image/png": "[encoded data removed]",
      "text/plain": [
       "<Figure size 432x288 with 1 Axes>"
      ]
     },
     "metadata": {
      "needs_background": "light"
     },
     "output_type": "display_data"
    },
    {
     "data": {
      "image/png": "[encoded data removed]",
      "text/plain": [
       "<Figure size 432x288 with 1 Axes>"
      ]
     },
     "metadata": {
      "needs_background": "light"
     },
     "output_type": "display_data"
    }
   ],
   "source": [
    "normalise(array, 70, 300)"
   ]
  },
  {
   "cell_type": "code",
   "execution_count": 45,
   "metadata": {},
   "outputs": [
    {
     "data": {
      "image/png": "[encoded data removed]",
      "text/plain": [
       "<Figure size 432x288 with 1 Axes>"
      ]
     },
     "metadata": {
      "needs_background": "light"
     },
     "output_type": "display_data"
    },
    {
     "data": {
      "image/png": "[encoded data removed]",
      "text/plain": [
       "<Figure size 432x288 with 1 Axes>"
      ]
     },
     "metadata": {
      "needs_background": "light"
     },
     "output_type": "display_data"
    },
    {
     "data": {
      "image/png": "[encoded data removed]",
      "text/plain": [
       "<Figure size 432x288 with 1 Axes>"
      ]
     },
     "metadata": {
      "needs_background": "light"
     },
     "output_type": "display_data"
    }
   ],
   "source": [
    "normalise(array, 70, 500)"
   ]
  },
  {
   "cell_type": "code",
   "execution_count": 46,
   "metadata": {},
   "outputs": [
    {
     "data": {
      "image/png": "[encoded data removed]",
      "text/plain": [
       "<Figure size 432x288 with 1 Axes>"
      ]
     },
     "metadata": {
      "needs_background": "light"
     },
     "output_type": "display_data"
    },
    {
     "data": {
      "image/png": "[encoded data removed]",
      "text/plain": [
       "<Figure size 432x288 with 1 Axes>"
      ]
     },
     "metadata": {
      "needs_background": "light"
     },
     "output_type": "display_data"
    },
    {
     "data": {
      "image/png": "[encoded data removed]",
      "text/plain": [
       "<Figure size 432x288 with 1 Axes>"
      ]
     },
     "metadata": {
      "needs_background": "light"
     },
     "output_type": "display_data"
    }
   ],
   "source": [
    "normalise(array, 100, 500)"
   ]
  },
  {
   "cell_type": "code",
   "execution_count": 47,
   "metadata": {},
   "outputs": [
    {
     "name": "stdout",
     "output_type": "stream",
     "text": [
      "10.428115246999077 8.252172823694936\n"
     ]
    }
   ],
   "source": [
    "# we 70 samples into consideration and do hypothesis testing.\n",
    "#given that mu and sigma of population Chicago is:\n",
    "print(mu,sigma)"
   ]
  },
  {
   "cell_type": "code",
   "execution_count": 48,
   "metadata": {},
   "outputs": [],
   "source": [
    "#Generalise hypothesis testing for upper tailtest:(n>30)\n",
    "def upper_tail_HT(m, xbar, n, alpha):\n",
    "    #Z-score of xbar\n",
    "    sd=sigma/math.sqrt(n)\n",
    "    z=(xbar-m)/sd\n",
    "    #Area towards right of it\n",
    "    area=1-norm.cdf(z)\n",
    "    if(area > alpha):\n",
    "        print(\"Fail to reject the Null hypothesis or Reject the alternate hypothesis.\")\n",
    "    else:\n",
    "        print(\"Reject the NUll hypothesis or Fail to reject Alternate Hypothesis\")"
   ]
  },
  {
   "cell_type": "code",
   "execution_count": 82,
   "metadata": {},
   "outputs": [
    {
     "name": "stdout",
     "output_type": "stream",
     "text": [
      "Null Hypothesis(Ho):m0 <= 9\n",
      "Alternate Hypothesis(Ha):m0 > 9\n",
      "10.603347368421053\n",
      "Fail to reject the Null hypothesis or Reject the alternate hypothesis.\n",
      "Reject the NUll hypothesis or Fail to reject Alternate Hypothesis\n"
     ]
    }
   ],
   "source": [
    "#we define aur query as:\n",
    "#Only if the mean is greater than 9 we consider it else we reject it.\n",
    "print(\"Null Hypothesis(Ho):m0 <= 9\")\n",
    "print(\"Alternate Hypothesis(Ha):m0 > 9\")\n",
    "n=70\n",
    "#we check for 95% and 90% condfidence intervals.\n",
    "s=sample(array, n)\n",
    "xbar=st.mean(s)\n",
    "print(xbar)\n",
    "upper_tail_HT(9, xbar, n, 0.05)\n",
    "upper_tail_HT(9 ,xbar, n, 0.1)"
   ]
  },
  {
   "cell_type": "code",
   "execution_count": 89,
   "metadata": {},
   "outputs": [
    {
     "name": "stdout",
     "output_type": "stream",
     "text": [
      "9.889598947368421\n",
      "Fail to reject the Null hypothesis or Reject the alternate hypothesis.\n",
      "Fail to reject the Null hypothesis or Reject the alternate hypothesis.\n",
      "10.170432105263158\n",
      "Fail to reject the Null hypothesis or Reject the alternate hypothesis.\n",
      "Reject the NUll hypothesis or Fail to reject Alternate Hypothesis\n"
     ]
    }
   ],
   "source": [
    "#For n=50\n",
    "s=sample(array, 50)\n",
    "xbar=st.mean(s)\n",
    "print(xbar)\n",
    "upper_tail_HT(9, xbar , 50, 0.05)\n",
    "upper_tail_HT(9, xbar , 50, 0.1)\n",
    "#For n=100\n",
    "s=sample(array, 100)\n",
    "xbar=st.mean(s)\n",
    "print(xbar)\n",
    "upper_tail_HT(9, xbar , 100, 0.05)\n",
    "upper_tail_HT(9, xbar , 100, 0.1)"
   ]
  },
  {
   "cell_type": "code",
   "execution_count": 94,
   "metadata": {},
   "outputs": [],
   "source": [
    "#Hypothesis Testing for lower tail test with n<30 (as sigma is known we use z table instead of t table) \n",
    "def lower_tail_HT(m, xbar, n, alpha):\n",
    "    #z-score of xbar\n",
    "    sd=sigma/math.sqrt(n)\n",
    "    z=(xbar-m)/sd\n",
    "    #Area towards right of it\n",
    "    area=norm.cdf(z)\n",
    "    if(area > alpha):\n",
    "        print(\"Fail to reject the Null hypothesis or Reject the alternate hypothesis.\")\n",
    "    else:\n",
    "        print(\"Reject the NUll hypothesis or Fail to reject Alternate Hypothesis\")"
   ]
  },
  {
   "cell_type": "code",
   "execution_count": 99,
   "metadata": {},
   "outputs": [
    {
     "name": "stdout",
     "output_type": "stream",
     "text": [
      "Null Hypothesis(Ho):m0 >= 12\n",
      "Alternate Hypothesis(Ha):m0 < 12\n",
      "9.544775\n",
      "Fail to reject the Null hypothesis or Reject the alternate hypothesis.\n",
      "Reject the NUll hypothesis or Fail to reject Alternate Hypothesis\n"
     ]
    }
   ],
   "source": [
    "#we define aur query as:\n",
    "#Only if the mean is less than 12 we consider it else we reject it.\n",
    "print(\"Null Hypothesis(Ho):m0 >= 12\")\n",
    "print(\"Alternate Hypothesis(Ha):m0 < 12\")\n",
    "n=20\n",
    "#we check for 95% and 90% condfidence intervals.\n",
    "s=sample(array, n)\n",
    "xbar=st.mean(s)\n",
    "print(xbar)\n",
    "lower_tail_HT(12, xbar, n, 0.05)\n",
    "lower_tail_HT(12, xbar, n, 0.1)"
   ]
  },
  {
   "cell_type": "code",
   "execution_count": 116,
   "metadata": {},
   "outputs": [
    {
     "name": "stdout",
     "output_type": "stream",
     "text": [
      "10.05548\n",
      "Fail to reject the Null hypothesis or Reject the alternate hypothesis.\n",
      "Fail to reject the Null hypothesis or Reject the alternate hypothesis.\n",
      "9.180133333333334\n",
      "Fail to reject the Null hypothesis or Reject the alternate hypothesis.\n",
      "Reject the NUll hypothesis or Fail to reject Alternate Hypothesis\n"
     ]
    }
   ],
   "source": [
    "#if n=25\n",
    "s=sample(array, 25)\n",
    "xbar=st.mean(s)\n",
    "print(xbar)\n",
    "lower_tail_HT(12, xbar, 25, 0.05)\n",
    "lower_tail_HT(12, xbar, 25, 0.1)\n",
    "#If n=15\n",
    "s=sample(array, 15)\n",
    "xbar=st.mean(s)\n",
    "print(xbar)\n",
    "lower_tail_HT(12, xbar, 15, 0.05)\n",
    "lower_tail_HT(12, xbar, 15, 0.1)"
   ]
  },
  {
   "cell_type": "code",
   "execution_count": 131,
   "metadata": {},
   "outputs": [
    {
     "name": "stdout",
     "output_type": "stream",
     "text": [
      "9.904255802823641 8.99116900108305\n"
     ]
    }
   ],
   "source": [
    "#population 2 for hypothesis testing\n",
    "NY_df=df.loc[df['City']=='New York']\n",
    "arr=[*NY_df['AverageTemperature'],]\n",
    "mu2=st.mean(arr)\n",
    "sigma2=st.stdev(arr)\n",
    "mu1=mu\n",
    "sigma1=sigma\n",
    "print(mu2,sigma2)"
   ]
  },
  {
   "cell_type": "code",
   "execution_count": 132,
   "metadata": {},
   "outputs": [],
   "source": [
    "#Hypothesis testing for difference of mean between two population (two tail test)\n",
    "#One population is Chicago\n",
    "#Second population is Ney York\n",
    "#Both population belong to same country but are independent of each other.\n",
    "array1=array#Chicago population\n",
    "array2=arr#New York population"
   ]
  },
  {
   "cell_type": "code",
   "execution_count": 134,
   "metadata": {},
   "outputs": [],
   "source": [
    "#Hypothesis for difference of mean(Two tail test)(n>30)\n",
    "def two_tail_HT(diff, m1, m2, n1, n2, alpha):\n",
    "     #z-score of xbar\n",
    "    sd=math.sqrt((math.pow(sigma1,2)/n1)+(math.pow(sigma2,2)/n2))\n",
    "    z=((m1-m2)-diff)/sd\n",
    "    #Area towards right of it\n",
    "    area=norm.cdf(z)\n",
    "    if(area > alpha/2 and area < (1-(alpha/2))):\n",
    "        print(\"Fail to reject the Null hypothesis or Reject the alternate hypothesis.\")\n",
    "    else:\n",
    "        print(\"Reject the NUll hypothesis or Fail to reject Alternate Hypothesis\")"
   ]
  },
  {
   "cell_type": "code",
   "execution_count": 153,
   "metadata": {},
   "outputs": [
    {
     "name": "stdout",
     "output_type": "stream",
     "text": [
      "Null Hypothesis(Ho):m1-m2 == 4\n",
      "Alternate Hypothesis(Ha):m1-m2 != 4\n",
      "10.634666666666666 10.554083333333333\n",
      "Fail to reject the Null hypothesis or Reject the alternate hypothesis.\n",
      "Reject the NUll hypothesis or Fail to reject Alternate Hypothesis\n"
     ]
    }
   ],
   "source": [
    "#Test the two tail test with following hypothesis\n",
    "#we define aur query as:\n",
    "#Only if the mean difference is not equal to 1 we consider it else we reject it.\n",
    "print(\"Null Hypothesis(Ho):m1-m2 == 4\")\n",
    "print(\"Alternate Hypothesis(Ha):m1-m2 != 4\")#(Two tail test)\n",
    "n1 = 30\n",
    "n2 = 30\n",
    "#we check for 95% and 90% condfidence intervals.\n",
    "s1=sample(array1, n1)\n",
    "m1=st.mean(s1)\n",
    "s2=sample(array2, n2)\n",
    "m2=st.mean(s2)\n",
    "print(m1, m2)\n",
    "two_tail_HT(4, m1, m2, n1, n2, 0.05)\n",
    "two_tail_HT(4, m1, m2, n1, n2, 0.1)"
   ]
  },
  {
   "cell_type": "code",
   "execution_count": 170,
   "metadata": {},
   "outputs": [
    {
     "name": "stdout",
     "output_type": "stream",
     "text": [
      "Null Hypothesis(Ho):m1-m2 == 2\n",
      "Alternate Hypothesis(Ha):m1-m2 != 2\n",
      "10.4588 11.68093\n",
      "Fail to reject the Null hypothesis or Reject the alternate hypothesis.\n",
      "Reject the NUll hypothesis or Fail to reject Alternate Hypothesis\n"
     ]
    }
   ],
   "source": [
    "#For difference to be as 2\n",
    "print(\"Null Hypothesis(Ho):m1-m2 == 2\")\n",
    "print(\"Alternate Hypothesis(Ha):m1-m2 != 2\")#(Two tail test)\n",
    "#For variable n values\n",
    "n1 = 40\n",
    "n2 = 50\n",
    "#we check for 95% and 90% condfidence intervals.\n",
    "s1=sample(array1, n1)\n",
    "m1=st.mean(s1)\n",
    "s2=sample(array2, n2)\n",
    "m2=st.mean(s2)\n",
    "print(m1, m2)\n",
    "two_tail_HT(2, m1, m2, n1, n2, 0.05)\n",
    "two_tail_HT(2, m1, m2, n1, n2, 0.1)"
   ]
  },
  {
   "cell_type": "code",
   "execution_count": null,
   "metadata": {},
   "outputs": [],
   "source": []
  }
 ],
 "metadata": {
  "kernelspec": {
   "display_name": "Python 3",
   "language": "python",
   "name": "python3"
  },
  "language_info": {
   "codemirror_mode": {
    "name": "ipython",
    "version": 3
   },
   "file_extension": ".py",
   "mimetype": "text/x-python",
   "name": "python",
   "nbconvert_exporter": "python",
   "pygments_lexer": "ipython3",
   "version": "3.6.8"
  }
 },
 "nbformat": 4,
 "nbformat_minor": 2
}
